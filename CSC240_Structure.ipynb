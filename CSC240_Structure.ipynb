{
 "cells": [
  {
   "cell_type": "code",
   "execution_count": 33,
   "id": "wanted-point",
   "metadata": {},
   "outputs": [
    {
     "name": "stdout",
     "output_type": "stream",
     "text": [
      "Requirement already satisfied: chefboost in /opt/anaconda3/lib/python3.8/site-packages (0.0.13)\n",
      "Requirement already satisfied: psutil>=5.4.3 in /opt/anaconda3/lib/python3.8/site-packages (from chefboost) (5.8.0)\n",
      "Requirement already satisfied: numpy>=1.14.0 in /opt/anaconda3/lib/python3.8/site-packages (from chefboost) (1.19.2)\n",
      "Requirement already satisfied: tqdm>=4.30.0 in /opt/anaconda3/lib/python3.8/site-packages (from chefboost) (4.56.0)\n",
      "Requirement already satisfied: pandas>=0.22.0 in /opt/anaconda3/lib/python3.8/site-packages (from chefboost) (1.1.3)\n",
      "Requirement already satisfied: pytz>=2017.2 in /opt/anaconda3/lib/python3.8/site-packages (from pandas>=0.22.0->chefboost) (2021.1)\n",
      "Requirement already satisfied: python-dateutil>=2.7.3 in /opt/anaconda3/lib/python3.8/site-packages (from pandas>=0.22.0->chefboost) (2.8.1)\n",
      "Requirement already satisfied: six>=1.5 in /opt/anaconda3/lib/python3.8/site-packages (from python-dateutil>=2.7.3->pandas>=0.22.0->chefboost) (1.15.0)\n"
     ]
    }
   ],
   "source": [
    "! pip install chefboost"
   ]
  },
  {
   "cell_type": "code",
   "execution_count": 1,
   "id": "regulated-printer",
   "metadata": {},
   "outputs": [],
   "source": [
    "import numpy as np\n",
    "import pandas as pd\n",
    "import matplotlib.pyplot as plt\n",
    "import seaborn as sns\n",
    "from sklearn.model_selection import train_test_split\n",
    "from sklearn.preprocessing import LabelEncoder\n",
    "from chefboost import Chefboost as chef\n",
    "from chefboost.training import Training\n",
    "from sklearn.datasets import make_blobs\n",
    "from sklearn.datasets import make_classification\n",
    "import matplotlib.pyplot as plt\n",
    "from sklearn.model_selection import train_test_split"
   ]
  },
  {
   "cell_type": "markdown",
   "id": "forced-egyptian",
   "metadata": {},
   "source": [
    "# EDA for four datasets"
   ]
  },
  {
   "cell_type": "markdown",
   "id": "arctic-victorian",
   "metadata": {},
   "source": [
    "## German Credit Data"
   ]
  },
  {
   "cell_type": "code",
   "execution_count": 2,
   "id": "under-appeal",
   "metadata": {},
   "outputs": [],
   "source": [
    "credit_df = pd.read_csv('german_credit_data.csv')"
   ]
  },
  {
   "cell_type": "code",
   "execution_count": 3,
   "id": "operational-carbon",
   "metadata": {},
   "outputs": [
    {
     "data": {
      "text/plain": [
       "(1000, 11)"
      ]
     },
     "execution_count": 3,
     "metadata": {},
     "output_type": "execute_result"
    }
   ],
   "source": [
    "credit_df.shape"
   ]
  },
  {
   "cell_type": "code",
   "execution_count": 4,
   "id": "diverse-switch",
   "metadata": {},
   "outputs": [
    {
     "data": {
      "text/html": [
       "<div>\n",
       "<style scoped>\n",
       "    .dataframe tbody tr th:only-of-type {\n",
       "        vertical-align: middle;\n",
       "    }\n",
       "\n",
       "    .dataframe tbody tr th {\n",
       "        vertical-align: top;\n",
       "    }\n",
       "\n",
       "    .dataframe thead th {\n",
       "        text-align: right;\n",
       "    }\n",
       "</style>\n",
       "<table border=\"1\" class=\"dataframe\">\n",
       "  <thead>\n",
       "    <tr style=\"text-align: right;\">\n",
       "      <th></th>\n",
       "      <th>Age</th>\n",
       "      <th>Sex</th>\n",
       "      <th>Job</th>\n",
       "      <th>Housing</th>\n",
       "      <th>Saving accounts</th>\n",
       "      <th>Checking account</th>\n",
       "      <th>Credit amount</th>\n",
       "      <th>Duration</th>\n",
       "      <th>Purpose</th>\n",
       "      <th>Risk</th>\n",
       "    </tr>\n",
       "  </thead>\n",
       "  <tbody>\n",
       "    <tr>\n",
       "      <th>0</th>\n",
       "      <td>67</td>\n",
       "      <td>male</td>\n",
       "      <td>2</td>\n",
       "      <td>own</td>\n",
       "      <td>NaN</td>\n",
       "      <td>little</td>\n",
       "      <td>1169</td>\n",
       "      <td>6</td>\n",
       "      <td>radio/TV</td>\n",
       "      <td>good</td>\n",
       "    </tr>\n",
       "    <tr>\n",
       "      <th>1</th>\n",
       "      <td>22</td>\n",
       "      <td>female</td>\n",
       "      <td>2</td>\n",
       "      <td>own</td>\n",
       "      <td>little</td>\n",
       "      <td>moderate</td>\n",
       "      <td>5951</td>\n",
       "      <td>48</td>\n",
       "      <td>radio/TV</td>\n",
       "      <td>bad</td>\n",
       "    </tr>\n",
       "    <tr>\n",
       "      <th>2</th>\n",
       "      <td>49</td>\n",
       "      <td>male</td>\n",
       "      <td>1</td>\n",
       "      <td>own</td>\n",
       "      <td>little</td>\n",
       "      <td>NaN</td>\n",
       "      <td>2096</td>\n",
       "      <td>12</td>\n",
       "      <td>education</td>\n",
       "      <td>good</td>\n",
       "    </tr>\n",
       "    <tr>\n",
       "      <th>3</th>\n",
       "      <td>45</td>\n",
       "      <td>male</td>\n",
       "      <td>2</td>\n",
       "      <td>free</td>\n",
       "      <td>little</td>\n",
       "      <td>little</td>\n",
       "      <td>7882</td>\n",
       "      <td>42</td>\n",
       "      <td>furniture/equipment</td>\n",
       "      <td>good</td>\n",
       "    </tr>\n",
       "    <tr>\n",
       "      <th>4</th>\n",
       "      <td>53</td>\n",
       "      <td>male</td>\n",
       "      <td>2</td>\n",
       "      <td>free</td>\n",
       "      <td>little</td>\n",
       "      <td>little</td>\n",
       "      <td>4870</td>\n",
       "      <td>24</td>\n",
       "      <td>car</td>\n",
       "      <td>bad</td>\n",
       "    </tr>\n",
       "  </tbody>\n",
       "</table>\n",
       "</div>"
      ],
      "text/plain": [
       "   Age     Sex  Job Housing Saving accounts Checking account  Credit amount  \\\n",
       "0   67    male    2     own             NaN           little           1169   \n",
       "1   22  female    2     own          little         moderate           5951   \n",
       "2   49    male    1     own          little              NaN           2096   \n",
       "3   45    male    2    free          little           little           7882   \n",
       "4   53    male    2    free          little           little           4870   \n",
       "\n",
       "   Duration              Purpose  Risk  \n",
       "0         6             radio/TV  good  \n",
       "1        48             radio/TV   bad  \n",
       "2        12            education  good  \n",
       "3        42  furniture/equipment  good  \n",
       "4        24                  car   bad  "
      ]
     },
     "execution_count": 4,
     "metadata": {},
     "output_type": "execute_result"
    }
   ],
   "source": [
    "credit_df.drop(\"Unnamed: 0\", inplace=True, axis=1)\n",
    "credit_df.head()"
   ]
  },
  {
   "cell_type": "code",
   "execution_count": 5,
   "id": "expensive-experiment",
   "metadata": {},
   "outputs": [
    {
     "name": "stdout",
     "output_type": "stream",
     "text": [
      "<class 'pandas.core.frame.DataFrame'>\n",
      "RangeIndex: 1000 entries, 0 to 999\n",
      "Data columns (total 10 columns):\n",
      " #   Column            Non-Null Count  Dtype \n",
      "---  ------            --------------  ----- \n",
      " 0   Age               1000 non-null   int64 \n",
      " 1   Sex               1000 non-null   object\n",
      " 2   Job               1000 non-null   int64 \n",
      " 3   Housing           1000 non-null   object\n",
      " 4   Saving accounts   817 non-null    object\n",
      " 5   Checking account  606 non-null    object\n",
      " 6   Credit amount     1000 non-null   int64 \n",
      " 7   Duration          1000 non-null   int64 \n",
      " 8   Purpose           1000 non-null   object\n",
      " 9   Risk              1000 non-null   object\n",
      "dtypes: int64(4), object(6)\n",
      "memory usage: 78.2+ KB\n"
     ]
    }
   ],
   "source": [
    "credit_df.info()"
   ]
  },
  {
   "cell_type": "code",
   "execution_count": 6,
   "id": "drawn-climb",
   "metadata": {},
   "outputs": [
    {
     "data": {
      "text/html": [
       "<div>\n",
       "<style scoped>\n",
       "    .dataframe tbody tr th:only-of-type {\n",
       "        vertical-align: middle;\n",
       "    }\n",
       "\n",
       "    .dataframe tbody tr th {\n",
       "        vertical-align: top;\n",
       "    }\n",
       "\n",
       "    .dataframe thead th {\n",
       "        text-align: right;\n",
       "    }\n",
       "</style>\n",
       "<table border=\"1\" class=\"dataframe\">\n",
       "  <thead>\n",
       "    <tr style=\"text-align: right;\">\n",
       "      <th></th>\n",
       "      <th>Age</th>\n",
       "      <th>Job</th>\n",
       "      <th>Credit amount</th>\n",
       "      <th>Duration</th>\n",
       "    </tr>\n",
       "  </thead>\n",
       "  <tbody>\n",
       "    <tr>\n",
       "      <th>count</th>\n",
       "      <td>1000.000000</td>\n",
       "      <td>1000.000000</td>\n",
       "      <td>1000.000000</td>\n",
       "      <td>1000.000000</td>\n",
       "    </tr>\n",
       "    <tr>\n",
       "      <th>mean</th>\n",
       "      <td>35.546000</td>\n",
       "      <td>1.904000</td>\n",
       "      <td>3271.258000</td>\n",
       "      <td>20.903000</td>\n",
       "    </tr>\n",
       "    <tr>\n",
       "      <th>std</th>\n",
       "      <td>11.375469</td>\n",
       "      <td>0.653614</td>\n",
       "      <td>2822.736876</td>\n",
       "      <td>12.058814</td>\n",
       "    </tr>\n",
       "    <tr>\n",
       "      <th>min</th>\n",
       "      <td>19.000000</td>\n",
       "      <td>0.000000</td>\n",
       "      <td>250.000000</td>\n",
       "      <td>4.000000</td>\n",
       "    </tr>\n",
       "    <tr>\n",
       "      <th>25%</th>\n",
       "      <td>27.000000</td>\n",
       "      <td>2.000000</td>\n",
       "      <td>1365.500000</td>\n",
       "      <td>12.000000</td>\n",
       "    </tr>\n",
       "    <tr>\n",
       "      <th>50%</th>\n",
       "      <td>33.000000</td>\n",
       "      <td>2.000000</td>\n",
       "      <td>2319.500000</td>\n",
       "      <td>18.000000</td>\n",
       "    </tr>\n",
       "    <tr>\n",
       "      <th>75%</th>\n",
       "      <td>42.000000</td>\n",
       "      <td>2.000000</td>\n",
       "      <td>3972.250000</td>\n",
       "      <td>24.000000</td>\n",
       "    </tr>\n",
       "    <tr>\n",
       "      <th>max</th>\n",
       "      <td>75.000000</td>\n",
       "      <td>3.000000</td>\n",
       "      <td>18424.000000</td>\n",
       "      <td>72.000000</td>\n",
       "    </tr>\n",
       "  </tbody>\n",
       "</table>\n",
       "</div>"
      ],
      "text/plain": [
       "               Age          Job  Credit amount     Duration\n",
       "count  1000.000000  1000.000000    1000.000000  1000.000000\n",
       "mean     35.546000     1.904000    3271.258000    20.903000\n",
       "std      11.375469     0.653614    2822.736876    12.058814\n",
       "min      19.000000     0.000000     250.000000     4.000000\n",
       "25%      27.000000     2.000000    1365.500000    12.000000\n",
       "50%      33.000000     2.000000    2319.500000    18.000000\n",
       "75%      42.000000     2.000000    3972.250000    24.000000\n",
       "max      75.000000     3.000000   18424.000000    72.000000"
      ]
     },
     "execution_count": 6,
     "metadata": {},
     "output_type": "execute_result"
    }
   ],
   "source": [
    "credit_df.describe()"
   ]
  },
  {
   "cell_type": "code",
   "execution_count": 7,
   "id": "employed-norway",
   "metadata": {},
   "outputs": [
    {
     "data": {
      "text/html": [
       "<div>\n",
       "<style scoped>\n",
       "    .dataframe tbody tr th:only-of-type {\n",
       "        vertical-align: middle;\n",
       "    }\n",
       "\n",
       "    .dataframe tbody tr th {\n",
       "        vertical-align: top;\n",
       "    }\n",
       "\n",
       "    .dataframe thead th {\n",
       "        text-align: right;\n",
       "    }\n",
       "</style>\n",
       "<table border=\"1\" class=\"dataframe\">\n",
       "  <thead>\n",
       "    <tr style=\"text-align: right;\">\n",
       "      <th></th>\n",
       "      <th>Sex</th>\n",
       "      <th>Housing</th>\n",
       "      <th>Saving accounts</th>\n",
       "      <th>Checking account</th>\n",
       "      <th>Purpose</th>\n",
       "    </tr>\n",
       "  </thead>\n",
       "  <tbody>\n",
       "    <tr>\n",
       "      <th>count</th>\n",
       "      <td>1000</td>\n",
       "      <td>1000</td>\n",
       "      <td>817</td>\n",
       "      <td>606</td>\n",
       "      <td>1000</td>\n",
       "    </tr>\n",
       "    <tr>\n",
       "      <th>unique</th>\n",
       "      <td>2</td>\n",
       "      <td>3</td>\n",
       "      <td>4</td>\n",
       "      <td>3</td>\n",
       "      <td>8</td>\n",
       "    </tr>\n",
       "    <tr>\n",
       "      <th>top</th>\n",
       "      <td>male</td>\n",
       "      <td>own</td>\n",
       "      <td>little</td>\n",
       "      <td>little</td>\n",
       "      <td>car</td>\n",
       "    </tr>\n",
       "    <tr>\n",
       "      <th>freq</th>\n",
       "      <td>690</td>\n",
       "      <td>713</td>\n",
       "      <td>603</td>\n",
       "      <td>274</td>\n",
       "      <td>337</td>\n",
       "    </tr>\n",
       "  </tbody>\n",
       "</table>\n",
       "</div>"
      ],
      "text/plain": [
       "         Sex Housing Saving accounts Checking account Purpose\n",
       "count   1000    1000             817              606    1000\n",
       "unique     2       3               4                3       8\n",
       "top     male     own          little           little     car\n",
       "freq     690     713             603              274     337"
      ]
     },
     "execution_count": 7,
     "metadata": {},
     "output_type": "execute_result"
    }
   ],
   "source": [
    "credit_df[['Sex', 'Housing', 'Saving accounts', 'Checking account', 'Purpose']].describe()"
   ]
  },
  {
   "cell_type": "code",
   "execution_count": 8,
   "id": "recreational-oakland",
   "metadata": {},
   "outputs": [
    {
     "data": {
      "text/plain": [
       "0"
      ]
     },
     "execution_count": 8,
     "metadata": {},
     "output_type": "execute_result"
    }
   ],
   "source": [
    "#No duplicates\n",
    "credit_df.duplicated().sum()"
   ]
  },
  {
   "cell_type": "code",
   "execution_count": 9,
   "id": "fitted-switch",
   "metadata": {},
   "outputs": [
    {
     "data": {
      "text/plain": [
       "Age                   0\n",
       "Sex                   0\n",
       "Job                   0\n",
       "Housing               0\n",
       "Saving accounts     183\n",
       "Checking account    394\n",
       "Credit amount         0\n",
       "Duration              0\n",
       "Purpose               0\n",
       "Risk                  0\n",
       "dtype: int64"
      ]
     },
     "execution_count": 9,
     "metadata": {},
     "output_type": "execute_result"
    }
   ],
   "source": [
    "credit_df.isnull().sum()"
   ]
  },
  {
   "cell_type": "code",
   "execution_count": 10,
   "id": "sunset-improvement",
   "metadata": {},
   "outputs": [
    {
     "data": {
      "image/png": "[encoded data removed]",
      "text/plain": [
       "<Figure size 720x576 with 1 Axes>"
      ]
     },
     "metadata": {
      "needs_background": "light"
     },
     "output_type": "display_data"
    }
   ],
   "source": [
    "# Check for classes balance\n",
    "plt.figure(figsize=(10, 8))\n",
    "y_countplot = sns.countplot(x='Risk', data=credit_df)\n",
    "# To add annotation to counter plot https://github.com/mwaskom/seaborn/issues/1582\n",
    "for y in y_countplot.patches:\n",
    "    y_countplot.annotate(format(y.get_height()), (y.get_x() + y.get_width() / 2., y.get_height()), \n",
    "                     ha = 'center', va = 'center', xytext = (0, 10),textcoords = 'offset points')\n",
    "plt.show()"
   ]
  },
  {
   "cell_type": "code",
   "execution_count": 11,
   "id": "needed-compiler",
   "metadata": {},
   "outputs": [
    {
     "data": {
      "image/png": "[encoded data removed]",
      "text/plain": [
       "<Figure size 1440x720 with 4 Axes>"
      ]
     },
     "metadata": {
      "needs_background": "light"
     },
     "output_type": "display_data"
    }
   ],
   "source": [
    "credit_df.hist(figsize=(20, 10))\n",
    "plt.show()"
   ]
  },
  {
   "cell_type": "code",
   "execution_count": 12,
   "id": "sound-candidate",
   "metadata": {},
   "outputs": [
    {
     "data": {
      "image/png": "[encoded data removed]",
      "text/plain": [
       "<Figure size 2520x1800 with 5 Axes>"
      ]
     },
     "metadata": {
      "needs_background": "light"
     },
     "output_type": "display_data"
    }
   ],
   "source": [
    "# Categorical features count\n",
    "plt.figure(figsize=(35, 25))\n",
    "j = 1\n",
    "for i in ['Sex', 'Housing', 'Saving accounts', 'Checking account', 'Purpose']:\n",
    "    plt.subplot(2, 3, j)\n",
    "    plot = sns.countplot(x=i, data=credit_df)\n",
    "    # To add annotation to counter plot https://github.com/mwaskom/seaborn/issues/1582\n",
    "    for z in plot.patches:\n",
    "        plot.annotate(format(z.get_height()), (z.get_x() + z.get_width() / 2.,z.get_height()), \n",
    "              ha = 'center', va = 'center', xytext = (0, 10), textcoords= 'offset points')\n",
    "    j += 1\n",
    "#plt.tight_layout()"
   ]
  },
  {
   "cell_type": "code",
   "execution_count": 13,
   "id": "steady-budapest",
   "metadata": {},
   "outputs": [
    {
     "data": {
      "image/png": "[encoded data removed]",
      "text/plain": [
       "<Figure size 1440x720 with 4 Axes>"
      ]
     },
     "metadata": {
      "needs_background": "light"
     },
     "output_type": "display_data"
    }
   ],
   "source": [
    "# Numerical feature boxplot\n",
    "plt.figure(figsize=(20, 10))\n",
    "j = 1\n",
    "for i in ['Age', 'Job', 'Credit amount', 'Duration']:\n",
    "    plt.subplot(2, 2, j)\n",
    "    credit_df.boxplot([i])\n",
    "    j += 1\n",
    "plt.show()"
   ]
  },
  {
   "cell_type": "markdown",
   "id": "graduate-tooth",
   "metadata": {},
   "source": [
    "## Red Wine Quality Dataset"
   ]
  },
  {
   "cell_type": "code",
   "execution_count": 14,
   "id": "linear-hayes",
   "metadata": {},
   "outputs": [
    {
     "data": {
      "text/html": [
       "<div>\n",
       "<style scoped>\n",
       "    .dataframe tbody tr th:only-of-type {\n",
       "        vertical-align: middle;\n",
       "    }\n",
       "\n",
       "    .dataframe tbody tr th {\n",
       "        vertical-align: top;\n",
       "    }\n",
       "\n",
       "    .dataframe thead th {\n",
       "        text-align: right;\n",
       "    }\n",
       "</style>\n",
       "<table border=\"1\" class=\"dataframe\">\n",
       "  <thead>\n",
       "    <tr style=\"text-align: right;\">\n",
       "      <th></th>\n",
       "      <th>fixed acidity</th>\n",
       "      <th>volatile acidity</th>\n",
       "      <th>citric acid</th>\n",
       "      <th>residual sugar</th>\n",
       "      <th>chlorides</th>\n",
       "      <th>free sulfur dioxide</th>\n",
       "      <th>total sulfur dioxide</th>\n",
       "      <th>density</th>\n",
       "      <th>pH</th>\n",
       "      <th>sulphates</th>\n",
       "      <th>alcohol</th>\n",
       "      <th>quality</th>\n",
       "    </tr>\n",
       "  </thead>\n",
       "  <tbody>\n",
       "    <tr>\n",
       "      <th>0</th>\n",
       "      <td>7.4</td>\n",
       "      <td>0.70</td>\n",
       "      <td>0.00</td>\n",
       "      <td>1.9</td>\n",
       "      <td>0.076</td>\n",
       "      <td>11.0</td>\n",
       "      <td>34.0</td>\n",
       "      <td>0.9978</td>\n",
       "      <td>3.51</td>\n",
       "      <td>0.56</td>\n",
       "      <td>9.4</td>\n",
       "      <td>5</td>\n",
       "    </tr>\n",
       "    <tr>\n",
       "      <th>1</th>\n",
       "      <td>7.8</td>\n",
       "      <td>0.88</td>\n",
       "      <td>0.00</td>\n",
       "      <td>2.6</td>\n",
       "      <td>0.098</td>\n",
       "      <td>25.0</td>\n",
       "      <td>67.0</td>\n",
       "      <td>0.9968</td>\n",
       "      <td>3.20</td>\n",
       "      <td>0.68</td>\n",
       "      <td>9.8</td>\n",
       "      <td>5</td>\n",
       "    </tr>\n",
       "    <tr>\n",
       "      <th>2</th>\n",
       "      <td>7.8</td>\n",
       "      <td>0.76</td>\n",
       "      <td>0.04</td>\n",
       "      <td>2.3</td>\n",
       "      <td>0.092</td>\n",
       "      <td>15.0</td>\n",
       "      <td>54.0</td>\n",
       "      <td>0.9970</td>\n",
       "      <td>3.26</td>\n",
       "      <td>0.65</td>\n",
       "      <td>9.8</td>\n",
       "      <td>5</td>\n",
       "    </tr>\n",
       "    <tr>\n",
       "      <th>3</th>\n",
       "      <td>11.2</td>\n",
       "      <td>0.28</td>\n",
       "      <td>0.56</td>\n",
       "      <td>1.9</td>\n",
       "      <td>0.075</td>\n",
       "      <td>17.0</td>\n",
       "      <td>60.0</td>\n",
       "      <td>0.9980</td>\n",
       "      <td>3.16</td>\n",
       "      <td>0.58</td>\n",
       "      <td>9.8</td>\n",
       "      <td>6</td>\n",
       "    </tr>\n",
       "    <tr>\n",
       "      <th>4</th>\n",
       "      <td>7.4</td>\n",
       "      <td>0.70</td>\n",
       "      <td>0.00</td>\n",
       "      <td>1.9</td>\n",
       "      <td>0.076</td>\n",
       "      <td>11.0</td>\n",
       "      <td>34.0</td>\n",
       "      <td>0.9978</td>\n",
       "      <td>3.51</td>\n",
       "      <td>0.56</td>\n",
       "      <td>9.4</td>\n",
       "      <td>5</td>\n",
       "    </tr>\n",
       "  </tbody>\n",
       "</table>\n",
       "</div>"
      ],
      "text/plain": [
       "   fixed acidity  volatile acidity  citric acid  residual sugar  chlorides  \\\n",
       "0            7.4              0.70         0.00             1.9      0.076   \n",
       "1            7.8              0.88         0.00             2.6      0.098   \n",
       "2            7.8              0.76         0.04             2.3      0.092   \n",
       "3           11.2              0.28         0.56             1.9      0.075   \n",
       "4            7.4              0.70         0.00             1.9      0.076   \n",
       "\n",
       "   free sulfur dioxide  total sulfur dioxide  density    pH  sulphates  \\\n",
       "0                 11.0                  34.0   0.9978  3.51       0.56   \n",
       "1                 25.0                  67.0   0.9968  3.20       0.68   \n",
       "2                 15.0                  54.0   0.9970  3.26       0.65   \n",
       "3                 17.0                  60.0   0.9980  3.16       0.58   \n",
       "4                 11.0                  34.0   0.9978  3.51       0.56   \n",
       "\n",
       "   alcohol  quality  \n",
       "0      9.4        5  \n",
       "1      9.8        5  \n",
       "2      9.8        5  \n",
       "3      9.8        6  \n",
       "4      9.4        5  "
      ]
     },
     "execution_count": 14,
     "metadata": {},
     "output_type": "execute_result"
    }
   ],
   "source": [
    "wine_df = pd.read_csv(\"winequality-red.csv\")\n",
    "wine_df.head()"
   ]
  },
  {
   "cell_type": "code",
   "execution_count": 15,
   "id": "optical-officer",
   "metadata": {},
   "outputs": [
    {
     "data": {
      "text/plain": [
       "['fixed acidity',\n",
       " 'volatile acidity',\n",
       " 'citric acid',\n",
       " 'residual sugar',\n",
       " 'chlorides',\n",
       " 'free sulfur dioxide',\n",
       " 'total sulfur dioxide',\n",
       " 'density',\n",
       " 'pH',\n",
       " 'sulphates',\n",
       " 'alcohol',\n",
       " 'quality']"
      ]
     },
     "execution_count": 15,
     "metadata": {},
     "output_type": "execute_result"
    }
   ],
   "source": [
    "wine_df.columns.tolist()"
   ]
  },
  {
   "cell_type": "markdown",
   "id": "everyday-interpretation",
   "metadata": {},
   "source": [
    "There are 12 variables in this dataset. The quality variable is the dependent variable."
   ]
  },
  {
   "cell_type": "code",
   "execution_count": 16,
   "id": "spare-diabetes",
   "metadata": {},
   "outputs": [
    {
     "data": {
      "text/html": [
       "<div>\n",
       "<style scoped>\n",
       "    .dataframe tbody tr th:only-of-type {\n",
       "        vertical-align: middle;\n",
       "    }\n",
       "\n",
       "    .dataframe tbody tr th {\n",
       "        vertical-align: top;\n",
       "    }\n",
       "\n",
       "    .dataframe thead th {\n",
       "        text-align: right;\n",
       "    }\n",
       "</style>\n",
       "<table border=\"1\" class=\"dataframe\">\n",
       "  <thead>\n",
       "    <tr style=\"text-align: right;\">\n",
       "      <th></th>\n",
       "      <th>fixed acidity</th>\n",
       "      <th>volatile acidity</th>\n",
       "      <th>citric acid</th>\n",
       "      <th>residual sugar</th>\n",
       "      <th>chlorides</th>\n",
       "      <th>free sulfur dioxide</th>\n",
       "      <th>total sulfur dioxide</th>\n",
       "      <th>density</th>\n",
       "      <th>pH</th>\n",
       "      <th>sulphates</th>\n",
       "      <th>alcohol</th>\n",
       "      <th>quality</th>\n",
       "    </tr>\n",
       "  </thead>\n",
       "  <tbody>\n",
       "    <tr>\n",
       "      <th>count</th>\n",
       "      <td>1599.000000</td>\n",
       "      <td>1599.000000</td>\n",
       "      <td>1599.000000</td>\n",
       "      <td>1599.000000</td>\n",
       "      <td>1599.000000</td>\n",
       "      <td>1599.000000</td>\n",
       "      <td>1599.000000</td>\n",
       "      <td>1599.000000</td>\n",
       "      <td>1599.000000</td>\n",
       "      <td>1599.000000</td>\n",
       "      <td>1599.000000</td>\n",
       "      <td>1599.000000</td>\n",
       "    </tr>\n",
       "    <tr>\n",
       "      <th>mean</th>\n",
       "      <td>8.319637</td>\n",
       "      <td>0.527821</td>\n",
       "      <td>0.270976</td>\n",
       "      <td>2.538806</td>\n",
       "      <td>0.087467</td>\n",
       "      <td>15.874922</td>\n",
       "      <td>46.467792</td>\n",
       "      <td>0.996747</td>\n",
       "      <td>3.311113</td>\n",
       "      <td>0.658149</td>\n",
       "      <td>10.422983</td>\n",
       "      <td>5.636023</td>\n",
       "    </tr>\n",
       "    <tr>\n",
       "      <th>std</th>\n",
       "      <td>1.741096</td>\n",
       "      <td>0.179060</td>\n",
       "      <td>0.194801</td>\n",
       "      <td>1.409928</td>\n",
       "      <td>0.047065</td>\n",
       "      <td>10.460157</td>\n",
       "      <td>32.895324</td>\n",
       "      <td>0.001887</td>\n",
       "      <td>0.154386</td>\n",
       "      <td>0.169507</td>\n",
       "      <td>1.065668</td>\n",
       "      <td>0.807569</td>\n",
       "    </tr>\n",
       "    <tr>\n",
       "      <th>min</th>\n",
       "      <td>4.600000</td>\n",
       "      <td>0.120000</td>\n",
       "      <td>0.000000</td>\n",
       "      <td>0.900000</td>\n",
       "      <td>0.012000</td>\n",
       "      <td>1.000000</td>\n",
       "      <td>6.000000</td>\n",
       "      <td>0.990070</td>\n",
       "      <td>2.740000</td>\n",
       "      <td>0.330000</td>\n",
       "      <td>8.400000</td>\n",
       "      <td>3.000000</td>\n",
       "    </tr>\n",
       "    <tr>\n",
       "      <th>25%</th>\n",
       "      <td>7.100000</td>\n",
       "      <td>0.390000</td>\n",
       "      <td>0.090000</td>\n",
       "      <td>1.900000</td>\n",
       "      <td>0.070000</td>\n",
       "      <td>7.000000</td>\n",
       "      <td>22.000000</td>\n",
       "      <td>0.995600</td>\n",
       "      <td>3.210000</td>\n",
       "      <td>0.550000</td>\n",
       "      <td>9.500000</td>\n",
       "      <td>5.000000</td>\n",
       "    </tr>\n",
       "    <tr>\n",
       "      <th>50%</th>\n",
       "      <td>7.900000</td>\n",
       "      <td>0.520000</td>\n",
       "      <td>0.260000</td>\n",
       "      <td>2.200000</td>\n",
       "      <td>0.079000</td>\n",
       "      <td>14.000000</td>\n",
       "      <td>38.000000</td>\n",
       "      <td>0.996750</td>\n",
       "      <td>3.310000</td>\n",
       "      <td>0.620000</td>\n",
       "      <td>10.200000</td>\n",
       "      <td>6.000000</td>\n",
       "    </tr>\n",
       "    <tr>\n",
       "      <th>75%</th>\n",
       "      <td>9.200000</td>\n",
       "      <td>0.640000</td>\n",
       "      <td>0.420000</td>\n",
       "      <td>2.600000</td>\n",
       "      <td>0.090000</td>\n",
       "      <td>21.000000</td>\n",
       "      <td>62.000000</td>\n",
       "      <td>0.997835</td>\n",
       "      <td>3.400000</td>\n",
       "      <td>0.730000</td>\n",
       "      <td>11.100000</td>\n",
       "      <td>6.000000</td>\n",
       "    </tr>\n",
       "    <tr>\n",
       "      <th>max</th>\n",
       "      <td>15.900000</td>\n",
       "      <td>1.580000</td>\n",
       "      <td>1.000000</td>\n",
       "      <td>15.500000</td>\n",
       "      <td>0.611000</td>\n",
       "      <td>72.000000</td>\n",
       "      <td>289.000000</td>\n",
       "      <td>1.003690</td>\n",
       "      <td>4.010000</td>\n",
       "      <td>2.000000</td>\n",
       "      <td>14.900000</td>\n",
       "      <td>8.000000</td>\n",
       "    </tr>\n",
       "  </tbody>\n",
       "</table>\n",
       "</div>"
      ],
      "text/plain": [
       "       fixed acidity  volatile acidity  citric acid  residual sugar  \\\n",
       "count    1599.000000       1599.000000  1599.000000     1599.000000   \n",
       "mean        8.319637          0.527821     0.270976        2.538806   \n",
       "std         1.741096          0.179060     0.194801        1.409928   \n",
       "min         4.600000          0.120000     0.000000        0.900000   \n",
       "25%         7.100000          0.390000     0.090000        1.900000   \n",
       "50%         7.900000          0.520000     0.260000        2.200000   \n",
       "75%         9.200000          0.640000     0.420000        2.600000   \n",
       "max        15.900000          1.580000     1.000000       15.500000   \n",
       "\n",
       "         chlorides  free sulfur dioxide  total sulfur dioxide      density  \\\n",
       "count  1599.000000          1599.000000           1599.000000  1599.000000   \n",
       "mean      0.087467            15.874922             46.467792     0.996747   \n",
       "std       0.047065            10.460157             32.895324     0.001887   \n",
       "min       0.012000             1.000000              6.000000     0.990070   \n",
       "25%       0.070000             7.000000             22.000000     0.995600   \n",
       "50%       0.079000            14.000000             38.000000     0.996750   \n",
       "75%       0.090000            21.000000             62.000000     0.997835   \n",
       "max       0.611000            72.000000            289.000000     1.003690   \n",
       "\n",
       "                pH    sulphates      alcohol      quality  \n",
       "count  1599.000000  1599.000000  1599.000000  1599.000000  \n",
       "mean      3.311113     0.658149    10.422983     5.636023  \n",
       "std       0.154386     0.169507     1.065668     0.807569  \n",
       "min       2.740000     0.330000     8.400000     3.000000  \n",
       "25%       3.210000     0.550000     9.500000     5.000000  \n",
       "50%       3.310000     0.620000    10.200000     6.000000  \n",
       "75%       3.400000     0.730000    11.100000     6.000000  \n",
       "max       4.010000     2.000000    14.900000     8.000000  "
      ]
     },
     "execution_count": 16,
     "metadata": {},
     "output_type": "execute_result"
    }
   ],
   "source": [
    "wine_df.describe()"
   ]
  },
  {
   "cell_type": "code",
   "execution_count": 17,
   "id": "hungry-orleans",
   "metadata": {},
   "outputs": [
    {
     "data": {
      "text/plain": [
       "fixed acidity           0\n",
       "volatile acidity        0\n",
       "citric acid             0\n",
       "residual sugar          0\n",
       "chlorides               0\n",
       "free sulfur dioxide     0\n",
       "total sulfur dioxide    0\n",
       "density                 0\n",
       "pH                      0\n",
       "sulphates               0\n",
       "alcohol                 0\n",
       "quality                 0\n",
       "dtype: int64"
      ]
     },
     "execution_count": 17,
     "metadata": {},
     "output_type": "execute_result"
    }
   ],
   "source": [
    "wine_df.isnull().sum() # there are no null variables in this dataset"
   ]
  },
  {
   "cell_type": "code",
   "execution_count": 18,
   "id": "regional-division",
   "metadata": {},
   "outputs": [
    {
     "data": {
      "text/plain": [
       "<AxesSubplot:xlabel='quality', ylabel='count'>"
      ]
     },
     "execution_count": 18,
     "metadata": {},
     "output_type": "execute_result"
    },
    {
     "data": {
      "image/png": "[encoded data removed]",
      "text/plain": [
       "<Figure size 432x288 with 1 Axes>"
      ]
     },
     "metadata": {
      "needs_background": "light"
     },
     "output_type": "display_data"
    }
   ],
   "source": [
    "sns.countplot(x = 'quality',data = wine_df) # This dataset is unbalanced"
   ]
  },
  {
   "cell_type": "code",
   "execution_count": 19,
   "id": "thorough-aaron",
   "metadata": {},
   "outputs": [
    {
     "data": {
      "text/plain": [
       "<AxesSubplot:>"
      ]
     },
     "execution_count": 19,
     "metadata": {},
     "output_type": "execute_result"
    },
    {
     "data": {
      "image/png": "[encoded data removed]",
      "text/plain": [
       "<Figure size 1080x1080 with 2 Axes>"
      ]
     },
     "metadata": {
      "needs_background": "light"
     },
     "output_type": "display_data"
    }
   ],
   "source": [
    "plt.figure(figsize = (15, 15))\n",
    "sns.heatmap(wine_df.corr(), annot = True)"
   ]
  },
  {
   "cell_type": "markdown",
   "id": "found-saint",
   "metadata": {},
   "source": [
    "Fixed acidity, citric acid, residual sugar, sulphates, and alcohol have positive correlation with quality of the red wine. Volatile acidity, chlorides, free sulfur dioxide, total sulfur dioxide, density, and pH have negative correlation with quality of the red wine. Alcohol has the strongest correlation and volatile acidity has the weakest correlation. "
   ]
  },
  {
   "cell_type": "code",
   "execution_count": 20,
   "id": "waiting-tours",
   "metadata": {},
   "outputs": [
    {
     "data": {
      "text/plain": [
       "<AxesSubplot:xlabel='quality', ylabel='alcohol'>"
      ]
     },
     "execution_count": 20,
     "metadata": {},
     "output_type": "execute_result"
    },
    {
     "data": {
      "image/png": "[encoded data removed]",
      "text/plain": [
       "<Figure size 432x288 with 1 Axes>"
      ]
     },
     "metadata": {
      "needs_background": "light"
     },
     "output_type": "display_data"
    }
   ],
   "source": [
    "sns.boxplot(x='quality', y='alcohol', data = wine_df) \n",
    "# a box plot between alcohol concentration and the quality of red wine"
   ]
  },
  {
   "cell_type": "markdown",
   "id": "british-tuner",
   "metadata": {},
   "source": [
    "Most of the outliers are around wine with quality 5 and 6."
   ]
  },
  {
   "cell_type": "code",
   "execution_count": 21,
   "id": "structural-newspaper",
   "metadata": {},
   "outputs": [
    {
     "data": {
      "text/plain": [
       "<AxesSubplot:xlabel='quality', ylabel='alcohol'>"
      ]
     },
     "execution_count": 21,
     "metadata": {},
     "output_type": "execute_result"
    },
    {
     "data": {
      "image/png": "[encoded data removed]",
      "text/plain": [
       "<Figure size 432x288 with 1 Axes>"
      ]
     },
     "metadata": {
      "needs_background": "light"
     },
     "output_type": "display_data"
    }
   ],
   "source": [
    "sns.boxplot(x='quality', y='alcohol', data = wine_df, showfliers = False) # removing the outliers"
   ]
  },
  {
   "cell_type": "markdown",
   "id": "enabling-compression",
   "metadata": {},
   "source": [
    "This shows that the higher the alcohol concentration, the higher the quality of the red wine. "
   ]
  },
  {
   "cell_type": "code",
   "execution_count": 22,
   "id": "printable-fiber",
   "metadata": {},
   "outputs": [
    {
     "data": {
      "text/plain": [
       "<AxesSubplot:xlabel='quality', ylabel='volatile acidity'>"
      ]
     },
     "execution_count": 22,
     "metadata": {},
     "output_type": "execute_result"
    },
    {
     "data": {
      "image/png": "[encoded data removed]",
      "text/plain": [
       "<Figure size 432x288 with 1 Axes>"
      ]
     },
     "metadata": {
      "needs_background": "light"
     },
     "output_type": "display_data"
    }
   ],
   "source": [
    "sns.boxplot(x='quality', y='volatile acidity', data = wine_df, showfliers = False)\n",
    "# a box plot between volatile acidity and the quality of red wine"
   ]
  },
  {
   "cell_type": "markdown",
   "id": "conceptual-convention",
   "metadata": {},
   "source": [
    "This shows that the lower the volatile acidity, the lower the quality of the red wine. "
   ]
  },
  {
   "cell_type": "markdown",
   "id": "statewide-malpractice",
   "metadata": {},
   "source": [
    "## Adult Income Dataset"
   ]
  },
  {
   "cell_type": "code",
   "execution_count": 23,
   "id": "modular-dominant",
   "metadata": {},
   "outputs": [
    {
     "data": {
      "text/plain": [
       "(48842, 15)"
      ]
     },
     "execution_count": 23,
     "metadata": {},
     "output_type": "execute_result"
    }
   ],
   "source": [
    "adult_df = pd.read_csv('adult.csv')\n",
    "adult_df.shape"
   ]
  },
  {
   "cell_type": "code",
   "execution_count": 24,
   "id": "japanese-overhead",
   "metadata": {},
   "outputs": [
    {
     "data": {
      "text/html": [
       "<div>\n",
       "<style scoped>\n",
       "    .dataframe tbody tr th:only-of-type {\n",
       "        vertical-align: middle;\n",
       "    }\n",
       "\n",
       "    .dataframe tbody tr th {\n",
       "        vertical-align: top;\n",
       "    }\n",
       "\n",
       "    .dataframe thead th {\n",
       "        text-align: right;\n",
       "    }\n",
       "</style>\n",
       "<table border=\"1\" class=\"dataframe\">\n",
       "  <thead>\n",
       "    <tr style=\"text-align: right;\">\n",
       "      <th></th>\n",
       "      <th>age</th>\n",
       "      <th>workclass</th>\n",
       "      <th>fnlwgt</th>\n",
       "      <th>education</th>\n",
       "      <th>educational-num</th>\n",
       "      <th>marital-status</th>\n",
       "      <th>occupation</th>\n",
       "      <th>relationship</th>\n",
       "      <th>race</th>\n",
       "      <th>gender</th>\n",
       "      <th>capital-gain</th>\n",
       "      <th>capital-loss</th>\n",
       "      <th>hours-per-week</th>\n",
       "      <th>native-country</th>\n",
       "      <th>income</th>\n",
       "    </tr>\n",
       "  </thead>\n",
       "  <tbody>\n",
       "    <tr>\n",
       "      <th>0</th>\n",
       "      <td>25</td>\n",
       "      <td>Private</td>\n",
       "      <td>226802</td>\n",
       "      <td>11th</td>\n",
       "      <td>7</td>\n",
       "      <td>Never-married</td>\n",
       "      <td>Machine-op-inspct</td>\n",
       "      <td>Own-child</td>\n",
       "      <td>Black</td>\n",
       "      <td>Male</td>\n",
       "      <td>0</td>\n",
       "      <td>0</td>\n",
       "      <td>40</td>\n",
       "      <td>United-States</td>\n",
       "      <td>&lt;=50K</td>\n",
       "    </tr>\n",
       "    <tr>\n",
       "      <th>1</th>\n",
       "      <td>38</td>\n",
       "      <td>Private</td>\n",
       "      <td>89814</td>\n",
       "      <td>HS-grad</td>\n",
       "      <td>9</td>\n",
       "      <td>Married-civ-spouse</td>\n",
       "      <td>Farming-fishing</td>\n",
       "      <td>Husband</td>\n",
       "      <td>White</td>\n",
       "      <td>Male</td>\n",
       "      <td>0</td>\n",
       "      <td>0</td>\n",
       "      <td>50</td>\n",
       "      <td>United-States</td>\n",
       "      <td>&lt;=50K</td>\n",
       "    </tr>\n",
       "    <tr>\n",
       "      <th>2</th>\n",
       "      <td>28</td>\n",
       "      <td>Local-gov</td>\n",
       "      <td>336951</td>\n",
       "      <td>Assoc-acdm</td>\n",
       "      <td>12</td>\n",
       "      <td>Married-civ-spouse</td>\n",
       "      <td>Protective-serv</td>\n",
       "      <td>Husband</td>\n",
       "      <td>White</td>\n",
       "      <td>Male</td>\n",
       "      <td>0</td>\n",
       "      <td>0</td>\n",
       "      <td>40</td>\n",
       "      <td>United-States</td>\n",
       "      <td>&gt;50K</td>\n",
       "    </tr>\n",
       "    <tr>\n",
       "      <th>3</th>\n",
       "      <td>44</td>\n",
       "      <td>Private</td>\n",
       "      <td>160323</td>\n",
       "      <td>Some-college</td>\n",
       "      <td>10</td>\n",
       "      <td>Married-civ-spouse</td>\n",
       "      <td>Machine-op-inspct</td>\n",
       "      <td>Husband</td>\n",
       "      <td>Black</td>\n",
       "      <td>Male</td>\n",
       "      <td>7688</td>\n",
       "      <td>0</td>\n",
       "      <td>40</td>\n",
       "      <td>United-States</td>\n",
       "      <td>&gt;50K</td>\n",
       "    </tr>\n",
       "    <tr>\n",
       "      <th>4</th>\n",
       "      <td>18</td>\n",
       "      <td>?</td>\n",
       "      <td>103497</td>\n",
       "      <td>Some-college</td>\n",
       "      <td>10</td>\n",
       "      <td>Never-married</td>\n",
       "      <td>?</td>\n",
       "      <td>Own-child</td>\n",
       "      <td>White</td>\n",
       "      <td>Female</td>\n",
       "      <td>0</td>\n",
       "      <td>0</td>\n",
       "      <td>30</td>\n",
       "      <td>United-States</td>\n",
       "      <td>&lt;=50K</td>\n",
       "    </tr>\n",
       "  </tbody>\n",
       "</table>\n",
       "</div>"
      ],
      "text/plain": [
       "   age  workclass  fnlwgt     education  educational-num      marital-status  \\\n",
       "0   25    Private  226802          11th                7       Never-married   \n",
       "1   38    Private   89814       HS-grad                9  Married-civ-spouse   \n",
       "2   28  Local-gov  336951    Assoc-acdm               12  Married-civ-spouse   \n",
       "3   44    Private  160323  Some-college               10  Married-civ-spouse   \n",
       "4   18          ?  103497  Some-college               10       Never-married   \n",
       "\n",
       "          occupation relationship   race  gender  capital-gain  capital-loss  \\\n",
       "0  Machine-op-inspct    Own-child  Black    Male             0             0   \n",
       "1    Farming-fishing      Husband  White    Male             0             0   \n",
       "2    Protective-serv      Husband  White    Male             0             0   \n",
       "3  Machine-op-inspct      Husband  Black    Male          7688             0   \n",
       "4                  ?    Own-child  White  Female             0             0   \n",
       "\n",
       "   hours-per-week native-country income  \n",
       "0              40  United-States  <=50K  \n",
       "1              50  United-States  <=50K  \n",
       "2              40  United-States   >50K  \n",
       "3              40  United-States   >50K  \n",
       "4              30  United-States  <=50K  "
      ]
     },
     "execution_count": 24,
     "metadata": {},
     "output_type": "execute_result"
    }
   ],
   "source": [
    "adult_df.head()"
   ]
  },
  {
   "cell_type": "code",
   "execution_count": 25,
   "id": "fabulous-gardening",
   "metadata": {},
   "outputs": [
    {
     "data": {
      "text/plain": [
       "age                0\n",
       "workclass          0\n",
       "fnlwgt             0\n",
       "education          0\n",
       "educational-num    0\n",
       "marital-status     0\n",
       "occupation         0\n",
       "relationship       0\n",
       "race               0\n",
       "gender             0\n",
       "capital-gain       0\n",
       "capital-loss       0\n",
       "hours-per-week     0\n",
       "native-country     0\n",
       "income             0\n",
       "dtype: int64"
      ]
     },
     "execution_count": 25,
     "metadata": {},
     "output_type": "execute_result"
    }
   ],
   "source": [
    "#no null values but we can see that some values have ? instead of being null\n",
    "adult_df.isnull().sum()"
   ]
  },
  {
   "cell_type": "markdown",
   "id": "thrown-smile",
   "metadata": {},
   "source": [
    "#fnlwgt: final weight, the number of people the census believes the entry represents"
   ]
  },
  {
   "cell_type": "code",
   "execution_count": 26,
   "id": "alternate-metallic",
   "metadata": {},
   "outputs": [],
   "source": [
    "#replace ? with Null\n",
    "adult_df = adult_df.replace({'?': None})"
   ]
  },
  {
   "cell_type": "code",
   "execution_count": 27,
   "id": "cordless-tracker",
   "metadata": {},
   "outputs": [
    {
     "data": {
      "text/plain": [
       "age                   0\n",
       "workclass          2799\n",
       "fnlwgt                0\n",
       "education             0\n",
       "educational-num       0\n",
       "marital-status        0\n",
       "occupation         2809\n",
       "relationship          0\n",
       "race                  0\n",
       "gender                0\n",
       "capital-gain          0\n",
       "capital-loss          0\n",
       "hours-per-week        0\n",
       "native-country      857\n",
       "income                0\n",
       "dtype: int64"
      ]
     },
     "execution_count": 27,
     "metadata": {},
     "output_type": "execute_result"
    }
   ],
   "source": [
    "#since the target varaible and most columns have zero null values, we will keep rows with missing values for now\n",
    "adult_df.isnull().sum()"
   ]
  },
  {
   "cell_type": "code",
   "execution_count": 28,
   "id": "affiliated-romance",
   "metadata": {},
   "outputs": [
    {
     "data": {
      "text/html": [
       "<div>\n",
       "<style scoped>\n",
       "    .dataframe tbody tr th:only-of-type {\n",
       "        vertical-align: middle;\n",
       "    }\n",
       "\n",
       "    .dataframe tbody tr th {\n",
       "        vertical-align: top;\n",
       "    }\n",
       "\n",
       "    .dataframe thead th {\n",
       "        text-align: right;\n",
       "    }\n",
       "</style>\n",
       "<table border=\"1\" class=\"dataframe\">\n",
       "  <thead>\n",
       "    <tr style=\"text-align: right;\">\n",
       "      <th></th>\n",
       "      <th>age</th>\n",
       "      <th>fnlwgt</th>\n",
       "      <th>educational-num</th>\n",
       "      <th>capital-gain</th>\n",
       "      <th>capital-loss</th>\n",
       "      <th>hours-per-week</th>\n",
       "    </tr>\n",
       "  </thead>\n",
       "  <tbody>\n",
       "    <tr>\n",
       "      <th>count</th>\n",
       "      <td>48842.000000</td>\n",
       "      <td>4.884200e+04</td>\n",
       "      <td>48842.000000</td>\n",
       "      <td>48842.000000</td>\n",
       "      <td>48842.000000</td>\n",
       "      <td>48842.000000</td>\n",
       "    </tr>\n",
       "    <tr>\n",
       "      <th>mean</th>\n",
       "      <td>38.643585</td>\n",
       "      <td>1.896641e+05</td>\n",
       "      <td>10.078089</td>\n",
       "      <td>1079.067626</td>\n",
       "      <td>87.502314</td>\n",
       "      <td>40.422382</td>\n",
       "    </tr>\n",
       "    <tr>\n",
       "      <th>std</th>\n",
       "      <td>13.710510</td>\n",
       "      <td>1.056040e+05</td>\n",
       "      <td>2.570973</td>\n",
       "      <td>7452.019058</td>\n",
       "      <td>403.004552</td>\n",
       "      <td>12.391444</td>\n",
       "    </tr>\n",
       "    <tr>\n",
       "      <th>min</th>\n",
       "      <td>17.000000</td>\n",
       "      <td>1.228500e+04</td>\n",
       "      <td>1.000000</td>\n",
       "      <td>0.000000</td>\n",
       "      <td>0.000000</td>\n",
       "      <td>1.000000</td>\n",
       "    </tr>\n",
       "    <tr>\n",
       "      <th>25%</th>\n",
       "      <td>28.000000</td>\n",
       "      <td>1.175505e+05</td>\n",
       "      <td>9.000000</td>\n",
       "      <td>0.000000</td>\n",
       "      <td>0.000000</td>\n",
       "      <td>40.000000</td>\n",
       "    </tr>\n",
       "    <tr>\n",
       "      <th>50%</th>\n",
       "      <td>37.000000</td>\n",
       "      <td>1.781445e+05</td>\n",
       "      <td>10.000000</td>\n",
       "      <td>0.000000</td>\n",
       "      <td>0.000000</td>\n",
       "      <td>40.000000</td>\n",
       "    </tr>\n",
       "    <tr>\n",
       "      <th>75%</th>\n",
       "      <td>48.000000</td>\n",
       "      <td>2.376420e+05</td>\n",
       "      <td>12.000000</td>\n",
       "      <td>0.000000</td>\n",
       "      <td>0.000000</td>\n",
       "      <td>45.000000</td>\n",
       "    </tr>\n",
       "    <tr>\n",
       "      <th>max</th>\n",
       "      <td>90.000000</td>\n",
       "      <td>1.490400e+06</td>\n",
       "      <td>16.000000</td>\n",
       "      <td>99999.000000</td>\n",
       "      <td>4356.000000</td>\n",
       "      <td>99.000000</td>\n",
       "    </tr>\n",
       "  </tbody>\n",
       "</table>\n",
       "</div>"
      ],
      "text/plain": [
       "                age        fnlwgt  educational-num  capital-gain  \\\n",
       "count  48842.000000  4.884200e+04     48842.000000  48842.000000   \n",
       "mean      38.643585  1.896641e+05        10.078089   1079.067626   \n",
       "std       13.710510  1.056040e+05         2.570973   7452.019058   \n",
       "min       17.000000  1.228500e+04         1.000000      0.000000   \n",
       "25%       28.000000  1.175505e+05         9.000000      0.000000   \n",
       "50%       37.000000  1.781445e+05        10.000000      0.000000   \n",
       "75%       48.000000  2.376420e+05        12.000000      0.000000   \n",
       "max       90.000000  1.490400e+06        16.000000  99999.000000   \n",
       "\n",
       "       capital-loss  hours-per-week  \n",
       "count  48842.000000    48842.000000  \n",
       "mean      87.502314       40.422382  \n",
       "std      403.004552       12.391444  \n",
       "min        0.000000        1.000000  \n",
       "25%        0.000000       40.000000  \n",
       "50%        0.000000       40.000000  \n",
       "75%        0.000000       45.000000  \n",
       "max     4356.000000       99.000000  "
      ]
     },
     "execution_count": 28,
     "metadata": {},
     "output_type": "execute_result"
    }
   ],
   "source": [
    "adult_df.describe()"
   ]
  },
  {
   "cell_type": "code",
   "execution_count": 29,
   "id": "needed-certification",
   "metadata": {},
   "outputs": [
    {
     "data": {
      "text/html": [
       "<div>\n",
       "<style scoped>\n",
       "    .dataframe tbody tr th:only-of-type {\n",
       "        vertical-align: middle;\n",
       "    }\n",
       "\n",
       "    .dataframe tbody tr th {\n",
       "        vertical-align: top;\n",
       "    }\n",
       "\n",
       "    .dataframe thead th {\n",
       "        text-align: right;\n",
       "    }\n",
       "</style>\n",
       "<table border=\"1\" class=\"dataframe\">\n",
       "  <thead>\n",
       "    <tr style=\"text-align: right;\">\n",
       "      <th></th>\n",
       "      <th>age</th>\n",
       "      <th>workclass</th>\n",
       "      <th>fnlwgt</th>\n",
       "      <th>education</th>\n",
       "      <th>educational-num</th>\n",
       "      <th>marital-status</th>\n",
       "      <th>occupation</th>\n",
       "      <th>relationship</th>\n",
       "      <th>race</th>\n",
       "      <th>gender</th>\n",
       "      <th>capital-gain</th>\n",
       "      <th>capital-loss</th>\n",
       "      <th>hours-per-week</th>\n",
       "      <th>native-country</th>\n",
       "    </tr>\n",
       "    <tr>\n",
       "      <th>income</th>\n",
       "      <th></th>\n",
       "      <th></th>\n",
       "      <th></th>\n",
       "      <th></th>\n",
       "      <th></th>\n",
       "      <th></th>\n",
       "      <th></th>\n",
       "      <th></th>\n",
       "      <th></th>\n",
       "      <th></th>\n",
       "      <th></th>\n",
       "      <th></th>\n",
       "      <th></th>\n",
       "      <th></th>\n",
       "    </tr>\n",
       "  </thead>\n",
       "  <tbody>\n",
       "    <tr>\n",
       "      <th>&lt;=50K</th>\n",
       "      <td>37155</td>\n",
       "      <td>34621</td>\n",
       "      <td>37155</td>\n",
       "      <td>37155</td>\n",
       "      <td>37155</td>\n",
       "      <td>37155</td>\n",
       "      <td>34611</td>\n",
       "      <td>37155</td>\n",
       "      <td>37155</td>\n",
       "      <td>37155</td>\n",
       "      <td>37155</td>\n",
       "      <td>37155</td>\n",
       "      <td>37155</td>\n",
       "      <td>36518</td>\n",
       "    </tr>\n",
       "    <tr>\n",
       "      <th>&gt;50K</th>\n",
       "      <td>11687</td>\n",
       "      <td>11422</td>\n",
       "      <td>11687</td>\n",
       "      <td>11687</td>\n",
       "      <td>11687</td>\n",
       "      <td>11687</td>\n",
       "      <td>11422</td>\n",
       "      <td>11687</td>\n",
       "      <td>11687</td>\n",
       "      <td>11687</td>\n",
       "      <td>11687</td>\n",
       "      <td>11687</td>\n",
       "      <td>11687</td>\n",
       "      <td>11467</td>\n",
       "    </tr>\n",
       "  </tbody>\n",
       "</table>\n",
       "</div>"
      ],
      "text/plain": [
       "          age  workclass  fnlwgt  education  educational-num  marital-status  \\\n",
       "income                                                                         \n",
       "<=50K   37155      34621   37155      37155            37155           37155   \n",
       ">50K    11687      11422   11687      11687            11687           11687   \n",
       "\n",
       "        occupation  relationship   race  gender  capital-gain  capital-loss  \\\n",
       "income                                                                        \n",
       "<=50K        34611         37155  37155   37155         37155         37155   \n",
       ">50K         11422         11687  11687   11687         11687         11687   \n",
       "\n",
       "        hours-per-week  native-country  \n",
       "income                                  \n",
       "<=50K            37155           36518  \n",
       ">50K             11687           11467  "
      ]
     },
     "execution_count": 29,
     "metadata": {},
     "output_type": "execute_result"
    },
    {
     "data": {
      "image/png": "[encoded data removed]",
      "text/plain": [
       "<Figure size 432x288 with 1 Axes>"
      ]
     },
     "metadata": {
      "needs_background": "light"
     },
     "output_type": "display_data"
    }
   ],
   "source": [
    "#target variable is imbalanced, 37155 of observations have <=50K income, whereas only 11687 of obervations have >50K income \n",
    "sns.countplot(x = 'income',data = adult_df)\n",
    "adult_df.groupby(['income']).count()"
   ]
  },
  {
   "cell_type": "code",
   "execution_count": 30,
   "id": "dietary-chocolate",
   "metadata": {},
   "outputs": [
    {
     "data": {
      "text/html": [
       "<div>\n",
       "<style scoped>\n",
       "    .dataframe tbody tr th:only-of-type {\n",
       "        vertical-align: middle;\n",
       "    }\n",
       "\n",
       "    .dataframe tbody tr th {\n",
       "        vertical-align: top;\n",
       "    }\n",
       "\n",
       "    .dataframe thead th {\n",
       "        text-align: right;\n",
       "    }\n",
       "</style>\n",
       "<table border=\"1\" class=\"dataframe\">\n",
       "  <thead>\n",
       "    <tr style=\"text-align: right;\">\n",
       "      <th></th>\n",
       "      <th>age</th>\n",
       "      <th>fnlwgt</th>\n",
       "      <th>educational-num</th>\n",
       "      <th>capital-gain</th>\n",
       "      <th>capital-loss</th>\n",
       "      <th>hours-per-week</th>\n",
       "    </tr>\n",
       "    <tr>\n",
       "      <th>income</th>\n",
       "      <th></th>\n",
       "      <th></th>\n",
       "      <th></th>\n",
       "      <th></th>\n",
       "      <th></th>\n",
       "      <th></th>\n",
       "    </tr>\n",
       "  </thead>\n",
       "  <tbody>\n",
       "    <tr>\n",
       "      <th>&lt;=50K</th>\n",
       "      <td>36.872184</td>\n",
       "      <td>190039.565523</td>\n",
       "      <td>9.598493</td>\n",
       "      <td>147.010308</td>\n",
       "      <td>54.151931</td>\n",
       "      <td>38.840048</td>\n",
       "    </tr>\n",
       "    <tr>\n",
       "      <th>&gt;50K</th>\n",
       "      <td>44.275178</td>\n",
       "      <td>188470.574570</td>\n",
       "      <td>11.602807</td>\n",
       "      <td>4042.239497</td>\n",
       "      <td>193.528964</td>\n",
       "      <td>45.452896</td>\n",
       "    </tr>\n",
       "  </tbody>\n",
       "</table>\n",
       "</div>"
      ],
      "text/plain": [
       "              age         fnlwgt  educational-num  capital-gain  capital-loss  \\\n",
       "income                                                                          \n",
       "<=50K   36.872184  190039.565523         9.598493    147.010308     54.151931   \n",
       ">50K    44.275178  188470.574570        11.602807   4042.239497    193.528964   \n",
       "\n",
       "        hours-per-week  \n",
       "income                  \n",
       "<=50K        38.840048  \n",
       ">50K         45.452896  "
      ]
     },
     "execution_count": 30,
     "metadata": {},
     "output_type": "execute_result"
    }
   ],
   "source": [
    "#we see that average age and hours-per-week for people with higher income is bigger than those with lower income\n",
    "adult_df.groupby(['income']).mean()"
   ]
  },
  {
   "cell_type": "code",
   "execution_count": 31,
   "id": "increasing-experience",
   "metadata": {},
   "outputs": [
    {
     "data": {
      "text/plain": [
       "<AxesSubplot:>"
      ]
     },
     "execution_count": 31,
     "metadata": {},
     "output_type": "execute_result"
    },
    {
     "data": {
      "image/png": "[encoded data removed]",
      "text/plain": [
       "<Figure size 432x288 with 2 Axes>"
      ]
     },
     "metadata": {
      "needs_background": "light"
     },
     "output_type": "display_data"
    }
   ],
   "source": [
    "#there is almost no correlation between the numerical variables \n",
    "sns.heatmap(adult_df.corr(), annot = True)"
   ]
  },
  {
   "cell_type": "code",
   "execution_count": 32,
   "id": "vulnerable-mexican",
   "metadata": {},
   "outputs": [
    {
     "data": {
      "text/plain": [
       "Text(0.5, 1.0, 'Age Distribution')"
      ]
     },
     "execution_count": 32,
     "metadata": {},
     "output_type": "execute_result"
    },
    {
     "data": {
      "image/png": "[encoded data removed]",
      "text/plain": [
       "<Figure size 432x288 with 1 Axes>"
      ]
     },
     "metadata": {
      "needs_background": "light"
     },
     "output_type": "display_data"
    }
   ],
   "source": [
    "sns.histplot(adult_df['age']).set_title('Age Distribution')"
   ]
  },
  {
   "cell_type": "code",
   "execution_count": 33,
   "id": "exposed-democrat",
   "metadata": {},
   "outputs": [
    {
     "data": {
      "text/plain": [
       "<AxesSubplot:xlabel='race', ylabel='count'>"
      ]
     },
     "execution_count": 33,
     "metadata": {},
     "output_type": "execute_result"
    },
    {
     "data": {
      "image/png": "[encoded data removed]",
      "text/plain": [
       "<Figure size 432x288 with 1 Axes>"
      ]
     },
     "metadata": {
      "needs_background": "light"
     },
     "output_type": "display_data"
    }
   ],
   "source": [
    "#mostly white \n",
    "sns.countplot(x = 'race',data = adult_df)"
   ]
  },
  {
   "cell_type": "code",
   "execution_count": 34,
   "id": "forbidden-grain",
   "metadata": {},
   "outputs": [
    {
     "data": {
      "text/plain": [
       "<AxesSubplot:xlabel='marital-status', ylabel='count'>"
      ]
     },
     "execution_count": 34,
     "metadata": {},
     "output_type": "execute_result"
    },
    {
     "data": {
      "image/png": "[encoded data removed]",
      "text/plain": [
       "<Figure size 1008x360 with 1 Axes>"
      ]
     },
     "metadata": {
      "needs_background": "light"
     },
     "output_type": "display_data"
    }
   ],
   "source": [
    "#marital status\n",
    "plt.figure(figsize = (14, 5))\n",
    "sns.countplot(x = 'marital-status',data = adult_df)"
   ]
  },
  {
   "cell_type": "markdown",
   "id": "guided-dream",
   "metadata": {},
   "source": [
    "## First Artificial Dataset"
   ]
  },
  {
   "cell_type": "markdown",
   "id": "rental-canon",
   "metadata": {},
   "source": [
    "Below is the plot of first two features. This artificial dataset is generated by clusters. So it should be easily classified using decision tree."
   ]
  },
  {
   "cell_type": "code",
   "execution_count": 35,
   "id": "constant-listing",
   "metadata": {},
   "outputs": [
    {
     "data": {
      "text/plain": [
       "Text(0.5, 1.0, 'centers = 1')"
      ]
     },
     "execution_count": 35,
     "metadata": {},
     "output_type": "execute_result"
    },
    {
     "data": {
      "image/png": "[encoded data removed]",
      "text/plain": [
       "<Figure size 432x288 with 1 Axes>"
      ]
     },
     "metadata": {
      "needs_background": "light"
     },
     "output_type": "display_data"
    }
   ],
   "source": [
    "X_first_Artificial, y_first_Artificial = make_blobs(n_samples=10000, centers=6, n_features=50, random_state=42)\n",
    "plt.figure()\n",
    "plt.scatter(X_first_Artificial[:, 0], X_first_Artificial[:, 1], c=y_first_Artificial)\n",
    "plt.title('centers = 1')"
   ]
  },
  {
   "cell_type": "code",
   "execution_count": 36,
   "id": "alternative-girlfriend",
   "metadata": {},
   "outputs": [
    {
     "data": {
      "text/html": [
       "<div>\n",
       "<style scoped>\n",
       "    .dataframe tbody tr th:only-of-type {\n",
       "        vertical-align: middle;\n",
       "    }\n",
       "\n",
       "    .dataframe tbody tr th {\n",
       "        vertical-align: top;\n",
       "    }\n",
       "\n",
       "    .dataframe thead th {\n",
       "        text-align: right;\n",
       "    }\n",
       "</style>\n",
       "<table border=\"1\" class=\"dataframe\">\n",
       "  <thead>\n",
       "    <tr style=\"text-align: right;\">\n",
       "      <th></th>\n",
       "      <th>1</th>\n",
       "      <th>2</th>\n",
       "      <th>3</th>\n",
       "      <th>4</th>\n",
       "      <th>5</th>\n",
       "      <th>6</th>\n",
       "      <th>7</th>\n",
       "      <th>8</th>\n",
       "      <th>9</th>\n",
       "      <th>10</th>\n",
       "      <th>...</th>\n",
       "      <th>42</th>\n",
       "      <th>43</th>\n",
       "      <th>44</th>\n",
       "      <th>45</th>\n",
       "      <th>46</th>\n",
       "      <th>47</th>\n",
       "      <th>48</th>\n",
       "      <th>49</th>\n",
       "      <th>50</th>\n",
       "      <th>Target</th>\n",
       "    </tr>\n",
       "  </thead>\n",
       "  <tbody>\n",
       "    <tr>\n",
       "      <th>0</th>\n",
       "      <td>1.854219</td>\n",
       "      <td>-9.060577</td>\n",
       "      <td>-7.232399</td>\n",
       "      <td>7.227770</td>\n",
       "      <td>2.572563</td>\n",
       "      <td>-8.730482</td>\n",
       "      <td>-8.234146</td>\n",
       "      <td>2.511572</td>\n",
       "      <td>-9.501312</td>\n",
       "      <td>-7.471581</td>\n",
       "      <td>...</td>\n",
       "      <td>9.323758</td>\n",
       "      <td>7.489954</td>\n",
       "      <td>-4.160673</td>\n",
       "      <td>-9.704390</td>\n",
       "      <td>8.573475</td>\n",
       "      <td>-1.526214</td>\n",
       "      <td>8.851264</td>\n",
       "      <td>9.613553</td>\n",
       "      <td>7.679215</td>\n",
       "      <td>4</td>\n",
       "    </tr>\n",
       "    <tr>\n",
       "      <th>1</th>\n",
       "      <td>9.939457</td>\n",
       "      <td>6.778171</td>\n",
       "      <td>6.626757</td>\n",
       "      <td>7.540728</td>\n",
       "      <td>1.737359</td>\n",
       "      <td>10.220870</td>\n",
       "      <td>-7.704547</td>\n",
       "      <td>-7.651377</td>\n",
       "      <td>-8.560570</td>\n",
       "      <td>-2.308869</td>\n",
       "      <td>...</td>\n",
       "      <td>3.626161</td>\n",
       "      <td>5.001714</td>\n",
       "      <td>2.124524</td>\n",
       "      <td>4.688919</td>\n",
       "      <td>-2.002352</td>\n",
       "      <td>-0.483564</td>\n",
       "      <td>-2.042922</td>\n",
       "      <td>-10.853955</td>\n",
       "      <td>-7.429156</td>\n",
       "      <td>1</td>\n",
       "    </tr>\n",
       "    <tr>\n",
       "      <th>2</th>\n",
       "      <td>-2.890680</td>\n",
       "      <td>8.273078</td>\n",
       "      <td>5.869009</td>\n",
       "      <td>1.480427</td>\n",
       "      <td>-7.406035</td>\n",
       "      <td>-7.009404</td>\n",
       "      <td>-7.413813</td>\n",
       "      <td>8.454689</td>\n",
       "      <td>1.627452</td>\n",
       "      <td>5.388237</td>\n",
       "      <td>...</td>\n",
       "      <td>0.737992</td>\n",
       "      <td>-10.574369</td>\n",
       "      <td>8.987061</td>\n",
       "      <td>-5.768191</td>\n",
       "      <td>2.901303</td>\n",
       "      <td>-3.578547</td>\n",
       "      <td>0.756729</td>\n",
       "      <td>0.999648</td>\n",
       "      <td>-6.904023</td>\n",
       "      <td>0</td>\n",
       "    </tr>\n",
       "    <tr>\n",
       "      <th>3</th>\n",
       "      <td>-10.904661</td>\n",
       "      <td>2.020141</td>\n",
       "      <td>-3.994983</td>\n",
       "      <td>-0.336483</td>\n",
       "      <td>8.675776</td>\n",
       "      <td>-5.841990</td>\n",
       "      <td>-2.059752</td>\n",
       "      <td>5.727782</td>\n",
       "      <td>-5.066964</td>\n",
       "      <td>-8.254719</td>\n",
       "      <td>...</td>\n",
       "      <td>-3.701461</td>\n",
       "      <td>-0.569896</td>\n",
       "      <td>-4.114273</td>\n",
       "      <td>-5.685315</td>\n",
       "      <td>-9.449179</td>\n",
       "      <td>2.647983</td>\n",
       "      <td>-0.741426</td>\n",
       "      <td>-6.773020</td>\n",
       "      <td>-3.246508</td>\n",
       "      <td>2</td>\n",
       "    </tr>\n",
       "    <tr>\n",
       "      <th>4</th>\n",
       "      <td>-9.043613</td>\n",
       "      <td>3.969191</td>\n",
       "      <td>-3.873651</td>\n",
       "      <td>-0.368633</td>\n",
       "      <td>6.702187</td>\n",
       "      <td>-6.097934</td>\n",
       "      <td>-1.724966</td>\n",
       "      <td>4.614626</td>\n",
       "      <td>-4.072308</td>\n",
       "      <td>-8.463715</td>\n",
       "      <td>...</td>\n",
       "      <td>-7.120681</td>\n",
       "      <td>1.733112</td>\n",
       "      <td>-3.172827</td>\n",
       "      <td>-3.424101</td>\n",
       "      <td>-7.519322</td>\n",
       "      <td>2.917195</td>\n",
       "      <td>0.601631</td>\n",
       "      <td>-8.920533</td>\n",
       "      <td>-4.882397</td>\n",
       "      <td>2</td>\n",
       "    </tr>\n",
       "    <tr>\n",
       "      <th>...</th>\n",
       "      <td>...</td>\n",
       "      <td>...</td>\n",
       "      <td>...</td>\n",
       "      <td>...</td>\n",
       "      <td>...</td>\n",
       "      <td>...</td>\n",
       "      <td>...</td>\n",
       "      <td>...</td>\n",
       "      <td>...</td>\n",
       "      <td>...</td>\n",
       "      <td>...</td>\n",
       "      <td>...</td>\n",
       "      <td>...</td>\n",
       "      <td>...</td>\n",
       "      <td>...</td>\n",
       "      <td>...</td>\n",
       "      <td>...</td>\n",
       "      <td>...</td>\n",
       "      <td>...</td>\n",
       "      <td>...</td>\n",
       "      <td>...</td>\n",
       "    </tr>\n",
       "    <tr>\n",
       "      <th>9995</th>\n",
       "      <td>-3.298360</td>\n",
       "      <td>-2.218802</td>\n",
       "      <td>7.650568</td>\n",
       "      <td>-3.798930</td>\n",
       "      <td>-4.968472</td>\n",
       "      <td>0.674801</td>\n",
       "      <td>9.891845</td>\n",
       "      <td>3.108257</td>\n",
       "      <td>2.770372</td>\n",
       "      <td>-7.872692</td>\n",
       "      <td>...</td>\n",
       "      <td>-9.476315</td>\n",
       "      <td>6.972136</td>\n",
       "      <td>-1.616442</td>\n",
       "      <td>-6.148266</td>\n",
       "      <td>1.807619</td>\n",
       "      <td>4.269969</td>\n",
       "      <td>-4.799725</td>\n",
       "      <td>1.808289</td>\n",
       "      <td>-8.228015</td>\n",
       "      <td>5</td>\n",
       "    </tr>\n",
       "    <tr>\n",
       "      <th>9996</th>\n",
       "      <td>2.404995</td>\n",
       "      <td>-11.688830</td>\n",
       "      <td>-7.976660</td>\n",
       "      <td>9.190847</td>\n",
       "      <td>1.092916</td>\n",
       "      <td>-11.408768</td>\n",
       "      <td>-7.207712</td>\n",
       "      <td>4.212871</td>\n",
       "      <td>-10.141461</td>\n",
       "      <td>-4.546530</td>\n",
       "      <td>...</td>\n",
       "      <td>9.247690</td>\n",
       "      <td>8.923760</td>\n",
       "      <td>-1.036454</td>\n",
       "      <td>-10.910371</td>\n",
       "      <td>8.664794</td>\n",
       "      <td>-2.204789</td>\n",
       "      <td>10.145391</td>\n",
       "      <td>9.848158</td>\n",
       "      <td>7.734300</td>\n",
       "      <td>4</td>\n",
       "    </tr>\n",
       "    <tr>\n",
       "      <th>9997</th>\n",
       "      <td>8.890477</td>\n",
       "      <td>6.413765</td>\n",
       "      <td>9.917613</td>\n",
       "      <td>8.037167</td>\n",
       "      <td>1.768751</td>\n",
       "      <td>7.957030</td>\n",
       "      <td>-9.710832</td>\n",
       "      <td>-6.805011</td>\n",
       "      <td>-7.649407</td>\n",
       "      <td>-3.452350</td>\n",
       "      <td>...</td>\n",
       "      <td>2.564628</td>\n",
       "      <td>6.054286</td>\n",
       "      <td>1.128983</td>\n",
       "      <td>4.971394</td>\n",
       "      <td>0.532394</td>\n",
       "      <td>3.089073</td>\n",
       "      <td>-1.410564</td>\n",
       "      <td>-8.384327</td>\n",
       "      <td>-7.998574</td>\n",
       "      <td>1</td>\n",
       "    </tr>\n",
       "    <tr>\n",
       "      <th>9998</th>\n",
       "      <td>7.501087</td>\n",
       "      <td>-5.717805</td>\n",
       "      <td>-7.510483</td>\n",
       "      <td>2.016763</td>\n",
       "      <td>10.128403</td>\n",
       "      <td>-5.662872</td>\n",
       "      <td>3.723761</td>\n",
       "      <td>5.927484</td>\n",
       "      <td>-4.815790</td>\n",
       "      <td>3.531143</td>\n",
       "      <td>...</td>\n",
       "      <td>8.028043</td>\n",
       "      <td>8.001702</td>\n",
       "      <td>2.931943</td>\n",
       "      <td>-3.222410</td>\n",
       "      <td>-3.044454</td>\n",
       "      <td>4.482912</td>\n",
       "      <td>8.802346</td>\n",
       "      <td>8.094691</td>\n",
       "      <td>4.703666</td>\n",
       "      <td>3</td>\n",
       "    </tr>\n",
       "    <tr>\n",
       "      <th>9999</th>\n",
       "      <td>-3.591441</td>\n",
       "      <td>-3.336217</td>\n",
       "      <td>8.031209</td>\n",
       "      <td>-3.716050</td>\n",
       "      <td>-5.957322</td>\n",
       "      <td>2.161546</td>\n",
       "      <td>9.557141</td>\n",
       "      <td>2.903916</td>\n",
       "      <td>3.125416</td>\n",
       "      <td>-6.969680</td>\n",
       "      <td>...</td>\n",
       "      <td>-9.135073</td>\n",
       "      <td>4.355450</td>\n",
       "      <td>-1.321637</td>\n",
       "      <td>-8.762518</td>\n",
       "      <td>0.455515</td>\n",
       "      <td>5.383817</td>\n",
       "      <td>-5.943745</td>\n",
       "      <td>0.876067</td>\n",
       "      <td>-8.816452</td>\n",
       "      <td>5</td>\n",
       "    </tr>\n",
       "  </tbody>\n",
       "</table>\n",
       "<p>10000 rows × 51 columns</p>\n",
       "</div>"
      ],
      "text/plain": [
       "              1          2         3         4          5          6  \\\n",
       "0      1.854219  -9.060577 -7.232399  7.227770   2.572563  -8.730482   \n",
       "1      9.939457   6.778171  6.626757  7.540728   1.737359  10.220870   \n",
       "2     -2.890680   8.273078  5.869009  1.480427  -7.406035  -7.009404   \n",
       "3    -10.904661   2.020141 -3.994983 -0.336483   8.675776  -5.841990   \n",
       "4     -9.043613   3.969191 -3.873651 -0.368633   6.702187  -6.097934   \n",
       "...         ...        ...       ...       ...        ...        ...   \n",
       "9995  -3.298360  -2.218802  7.650568 -3.798930  -4.968472   0.674801   \n",
       "9996   2.404995 -11.688830 -7.976660  9.190847   1.092916 -11.408768   \n",
       "9997   8.890477   6.413765  9.917613  8.037167   1.768751   7.957030   \n",
       "9998   7.501087  -5.717805 -7.510483  2.016763  10.128403  -5.662872   \n",
       "9999  -3.591441  -3.336217  8.031209 -3.716050  -5.957322   2.161546   \n",
       "\n",
       "             7         8          9        10  ...        42         43  \\\n",
       "0    -8.234146  2.511572  -9.501312 -7.471581  ...  9.323758   7.489954   \n",
       "1    -7.704547 -7.651377  -8.560570 -2.308869  ...  3.626161   5.001714   \n",
       "2    -7.413813  8.454689   1.627452  5.388237  ...  0.737992 -10.574369   \n",
       "3    -2.059752  5.727782  -5.066964 -8.254719  ... -3.701461  -0.569896   \n",
       "4    -1.724966  4.614626  -4.072308 -8.463715  ... -7.120681   1.733112   \n",
       "...        ...       ...        ...       ...  ...       ...        ...   \n",
       "9995  9.891845  3.108257   2.770372 -7.872692  ... -9.476315   6.972136   \n",
       "9996 -7.207712  4.212871 -10.141461 -4.546530  ...  9.247690   8.923760   \n",
       "9997 -9.710832 -6.805011  -7.649407 -3.452350  ...  2.564628   6.054286   \n",
       "9998  3.723761  5.927484  -4.815790  3.531143  ...  8.028043   8.001702   \n",
       "9999  9.557141  2.903916   3.125416 -6.969680  ... -9.135073   4.355450   \n",
       "\n",
       "            44         45        46        47         48         49        50  \\\n",
       "0    -4.160673  -9.704390  8.573475 -1.526214   8.851264   9.613553  7.679215   \n",
       "1     2.124524   4.688919 -2.002352 -0.483564  -2.042922 -10.853955 -7.429156   \n",
       "2     8.987061  -5.768191  2.901303 -3.578547   0.756729   0.999648 -6.904023   \n",
       "3    -4.114273  -5.685315 -9.449179  2.647983  -0.741426  -6.773020 -3.246508   \n",
       "4    -3.172827  -3.424101 -7.519322  2.917195   0.601631  -8.920533 -4.882397   \n",
       "...        ...        ...       ...       ...        ...        ...       ...   \n",
       "9995 -1.616442  -6.148266  1.807619  4.269969  -4.799725   1.808289 -8.228015   \n",
       "9996 -1.036454 -10.910371  8.664794 -2.204789  10.145391   9.848158  7.734300   \n",
       "9997  1.128983   4.971394  0.532394  3.089073  -1.410564  -8.384327 -7.998574   \n",
       "9998  2.931943  -3.222410 -3.044454  4.482912   8.802346   8.094691  4.703666   \n",
       "9999 -1.321637  -8.762518  0.455515  5.383817  -5.943745   0.876067 -8.816452   \n",
       "\n",
       "      Target  \n",
       "0          4  \n",
       "1          1  \n",
       "2          0  \n",
       "3          2  \n",
       "4          2  \n",
       "...      ...  \n",
       "9995       5  \n",
       "9996       4  \n",
       "9997       1  \n",
       "9998       3  \n",
       "9999       5  \n",
       "\n",
       "[10000 rows x 51 columns]"
      ]
     },
     "execution_count": 36,
     "metadata": {},
     "output_type": "execute_result"
    }
   ],
   "source": [
    "First_Artificial_df = pd.DataFrame(X_first_Artificial,columns = ['1','2','3','4','5','6','7','8','9','10',\n",
    "                                                                 '11','12','13','14','15','16','17','18','19','20',\n",
    "                                                                 '21','22','23','24','25','26','27','28','29','30',\n",
    "                                                                '31','32','33','34','35','36','37','38','39','40',\n",
    "                                                                '41','42','43','44','45','46','47','48','49','50'])\n",
    "First_Artificial_df['Target'] = y_first_Artificial\n",
    "First_Artificial_df = First_Artificial_df.astype({'Target': str})\n",
    "First_Artificial_df"
   ]
  },
  {
   "cell_type": "markdown",
   "id": "appreciated-factor",
   "metadata": {},
   "source": [
    "## Second Artificial Dataset"
   ]
  },
  {
   "cell_type": "markdown",
   "id": "indian-earth",
   "metadata": {},
   "source": [
    "This artificial dataset has the same sample size and number of features. However, there are only 45 useful informative features, and remaining 5 features are redundant which means they are linear combination of other features. In addition, there are 5% percent of the data whose class is randomly assigned, so there exists nosiy data. Finally, I make the shift = 1, which means shift features by 1 each time so the range of each features varies. Details referred to https://scikit-learn.org/stable/modules/generated/sklearn.datasets.make_classification.html#sklearn.datasets.make_classification"
   ]
  },
  {
   "cell_type": "code",
   "execution_count": 37,
   "id": "organized-prompt",
   "metadata": {},
   "outputs": [
    {
     "data": {
      "text/plain": [
       "Text(0.5, 1.0, 'centers = 1')"
      ]
     },
     "execution_count": 37,
     "metadata": {},
     "output_type": "execute_result"
    },
    {
     "data": {
      "image/png": "[encoded data removed]",
      "text/plain": [
       "<Figure size 432x288 with 1 Axes>"
      ]
     },
     "metadata": {
      "needs_background": "light"
     },
     "output_type": "display_data"
    }
   ],
   "source": [
    "X_sec_Artificial,y_sec_Artificial = make_classification(n_samples = 10000, n_features = 50, n_informative = 45, n_redundant = 5, n_repeated = 0, n_classes = 6,\n",
    "                                                        n_clusters_per_class = 2, flip_y = 0.05, shift = 1, random_state = 42)\n",
    "plt.figure()\n",
    "plt.scatter(X_sec_Artificial[:, 0], X_sec_Artificial[:, 1], c=y_sec_Artificial)\n",
    "plt.title('centers = 1')"
   ]
  },
  {
   "cell_type": "code",
   "execution_count": 38,
   "id": "golden-bhutan",
   "metadata": {},
   "outputs": [
    {
     "data": {
      "text/html": [
       "<div>\n",
       "<style scoped>\n",
       "    .dataframe tbody tr th:only-of-type {\n",
       "        vertical-align: middle;\n",
       "    }\n",
       "\n",
       "    .dataframe tbody tr th {\n",
       "        vertical-align: top;\n",
       "    }\n",
       "\n",
       "    .dataframe thead th {\n",
       "        text-align: right;\n",
       "    }\n",
       "</style>\n",
       "<table border=\"1\" class=\"dataframe\">\n",
       "  <thead>\n",
       "    <tr style=\"text-align: right;\">\n",
       "      <th></th>\n",
       "      <th>1</th>\n",
       "      <th>2</th>\n",
       "      <th>3</th>\n",
       "      <th>4</th>\n",
       "      <th>5</th>\n",
       "      <th>6</th>\n",
       "      <th>7</th>\n",
       "      <th>8</th>\n",
       "      <th>9</th>\n",
       "      <th>10</th>\n",
       "      <th>...</th>\n",
       "      <th>42</th>\n",
       "      <th>43</th>\n",
       "      <th>44</th>\n",
       "      <th>45</th>\n",
       "      <th>46</th>\n",
       "      <th>47</th>\n",
       "      <th>48</th>\n",
       "      <th>49</th>\n",
       "      <th>50</th>\n",
       "      <th>Target</th>\n",
       "    </tr>\n",
       "  </thead>\n",
       "  <tbody>\n",
       "    <tr>\n",
       "      <th>0</th>\n",
       "      <td>0.142372</td>\n",
       "      <td>32.657288</td>\n",
       "      <td>-7.730448</td>\n",
       "      <td>4.720582</td>\n",
       "      <td>1.568258</td>\n",
       "      <td>2.442761</td>\n",
       "      <td>-5.157877</td>\n",
       "      <td>6.716322</td>\n",
       "      <td>2.629221</td>\n",
       "      <td>5.684133</td>\n",
       "      <td>...</td>\n",
       "      <td>-2.458382</td>\n",
       "      <td>0.333226</td>\n",
       "      <td>2.951268</td>\n",
       "      <td>-2.972412</td>\n",
       "      <td>-3.706380</td>\n",
       "      <td>7.316846</td>\n",
       "      <td>8.735795</td>\n",
       "      <td>-5.489070</td>\n",
       "      <td>-4.914978</td>\n",
       "      <td>3</td>\n",
       "    </tr>\n",
       "    <tr>\n",
       "      <th>1</th>\n",
       "      <td>-2.896494</td>\n",
       "      <td>-12.510719</td>\n",
       "      <td>2.946461</td>\n",
       "      <td>-2.668396</td>\n",
       "      <td>-0.916305</td>\n",
       "      <td>-0.200334</td>\n",
       "      <td>-1.743985</td>\n",
       "      <td>3.699803</td>\n",
       "      <td>1.157818</td>\n",
       "      <td>-1.296849</td>\n",
       "      <td>...</td>\n",
       "      <td>1.498790</td>\n",
       "      <td>0.056741</td>\n",
       "      <td>0.282126</td>\n",
       "      <td>-0.087357</td>\n",
       "      <td>1.906403</td>\n",
       "      <td>3.332812</td>\n",
       "      <td>-1.338653</td>\n",
       "      <td>1.961578</td>\n",
       "      <td>-0.152210</td>\n",
       "      <td>4</td>\n",
       "    </tr>\n",
       "    <tr>\n",
       "      <th>2</th>\n",
       "      <td>0.460402</td>\n",
       "      <td>-8.905278</td>\n",
       "      <td>-1.459329</td>\n",
       "      <td>10.314049</td>\n",
       "      <td>-8.029972</td>\n",
       "      <td>0.952764</td>\n",
       "      <td>3.177931</td>\n",
       "      <td>0.552431</td>\n",
       "      <td>4.700898</td>\n",
       "      <td>-4.111621</td>\n",
       "      <td>...</td>\n",
       "      <td>-1.126098</td>\n",
       "      <td>0.018442</td>\n",
       "      <td>-7.940069</td>\n",
       "      <td>-2.379509</td>\n",
       "      <td>9.708477</td>\n",
       "      <td>2.935679</td>\n",
       "      <td>0.990688</td>\n",
       "      <td>5.356984</td>\n",
       "      <td>-4.454972</td>\n",
       "      <td>3</td>\n",
       "    </tr>\n",
       "    <tr>\n",
       "      <th>3</th>\n",
       "      <td>-4.089833</td>\n",
       "      <td>-5.590670</td>\n",
       "      <td>6.458277</td>\n",
       "      <td>1.337546</td>\n",
       "      <td>-0.796803</td>\n",
       "      <td>-2.234344</td>\n",
       "      <td>4.424185</td>\n",
       "      <td>1.359940</td>\n",
       "      <td>2.527629</td>\n",
       "      <td>-6.601302</td>\n",
       "      <td>...</td>\n",
       "      <td>6.303319</td>\n",
       "      <td>0.135782</td>\n",
       "      <td>-4.201287</td>\n",
       "      <td>1.495373</td>\n",
       "      <td>-1.308058</td>\n",
       "      <td>0.652483</td>\n",
       "      <td>1.597269</td>\n",
       "      <td>3.120452</td>\n",
       "      <td>-4.842632</td>\n",
       "      <td>1</td>\n",
       "    </tr>\n",
       "    <tr>\n",
       "      <th>4</th>\n",
       "      <td>2.650668</td>\n",
       "      <td>-8.724004</td>\n",
       "      <td>-2.215812</td>\n",
       "      <td>4.123960</td>\n",
       "      <td>4.956644</td>\n",
       "      <td>-0.742299</td>\n",
       "      <td>5.031477</td>\n",
       "      <td>6.396224</td>\n",
       "      <td>-2.342482</td>\n",
       "      <td>-0.834182</td>\n",
       "      <td>...</td>\n",
       "      <td>1.524804</td>\n",
       "      <td>0.277295</td>\n",
       "      <td>0.661463</td>\n",
       "      <td>4.958045</td>\n",
       "      <td>-0.386429</td>\n",
       "      <td>5.735642</td>\n",
       "      <td>3.811054</td>\n",
       "      <td>0.731921</td>\n",
       "      <td>2.344960</td>\n",
       "      <td>4</td>\n",
       "    </tr>\n",
       "    <tr>\n",
       "      <th>...</th>\n",
       "      <td>...</td>\n",
       "      <td>...</td>\n",
       "      <td>...</td>\n",
       "      <td>...</td>\n",
       "      <td>...</td>\n",
       "      <td>...</td>\n",
       "      <td>...</td>\n",
       "      <td>...</td>\n",
       "      <td>...</td>\n",
       "      <td>...</td>\n",
       "      <td>...</td>\n",
       "      <td>...</td>\n",
       "      <td>...</td>\n",
       "      <td>...</td>\n",
       "      <td>...</td>\n",
       "      <td>...</td>\n",
       "      <td>...</td>\n",
       "      <td>...</td>\n",
       "      <td>...</td>\n",
       "      <td>...</td>\n",
       "      <td>...</td>\n",
       "    </tr>\n",
       "    <tr>\n",
       "      <th>9995</th>\n",
       "      <td>-1.100735</td>\n",
       "      <td>15.213364</td>\n",
       "      <td>5.007623</td>\n",
       "      <td>-0.830010</td>\n",
       "      <td>7.672774</td>\n",
       "      <td>2.355998</td>\n",
       "      <td>-3.455195</td>\n",
       "      <td>6.957364</td>\n",
       "      <td>2.364012</td>\n",
       "      <td>-1.447949</td>\n",
       "      <td>...</td>\n",
       "      <td>0.381977</td>\n",
       "      <td>1.778054</td>\n",
       "      <td>-5.518729</td>\n",
       "      <td>0.189646</td>\n",
       "      <td>5.517031</td>\n",
       "      <td>2.921632</td>\n",
       "      <td>6.155448</td>\n",
       "      <td>3.960628</td>\n",
       "      <td>0.596587</td>\n",
       "      <td>2</td>\n",
       "    </tr>\n",
       "    <tr>\n",
       "      <th>9996</th>\n",
       "      <td>-5.561415</td>\n",
       "      <td>-12.735165</td>\n",
       "      <td>-0.478836</td>\n",
       "      <td>-0.179195</td>\n",
       "      <td>4.838815</td>\n",
       "      <td>-2.575770</td>\n",
       "      <td>-3.031419</td>\n",
       "      <td>1.560054</td>\n",
       "      <td>0.946963</td>\n",
       "      <td>-2.940964</td>\n",
       "      <td>...</td>\n",
       "      <td>5.277907</td>\n",
       "      <td>0.949151</td>\n",
       "      <td>0.661492</td>\n",
       "      <td>1.844777</td>\n",
       "      <td>-0.908655</td>\n",
       "      <td>-2.014638</td>\n",
       "      <td>1.295149</td>\n",
       "      <td>-0.759301</td>\n",
       "      <td>-0.098660</td>\n",
       "      <td>0</td>\n",
       "    </tr>\n",
       "    <tr>\n",
       "      <th>9997</th>\n",
       "      <td>2.293387</td>\n",
       "      <td>0.643975</td>\n",
       "      <td>4.390060</td>\n",
       "      <td>2.035321</td>\n",
       "      <td>-6.289045</td>\n",
       "      <td>7.044275</td>\n",
       "      <td>0.652907</td>\n",
       "      <td>0.624932</td>\n",
       "      <td>-2.940570</td>\n",
       "      <td>-3.411253</td>\n",
       "      <td>...</td>\n",
       "      <td>0.711627</td>\n",
       "      <td>-2.065676</td>\n",
       "      <td>-0.998032</td>\n",
       "      <td>0.451014</td>\n",
       "      <td>5.997824</td>\n",
       "      <td>1.828278</td>\n",
       "      <td>2.586465</td>\n",
       "      <td>-0.991920</td>\n",
       "      <td>2.510131</td>\n",
       "      <td>1</td>\n",
       "    </tr>\n",
       "    <tr>\n",
       "      <th>9998</th>\n",
       "      <td>7.082020</td>\n",
       "      <td>-13.758995</td>\n",
       "      <td>4.209430</td>\n",
       "      <td>4.613442</td>\n",
       "      <td>2.037272</td>\n",
       "      <td>-1.826698</td>\n",
       "      <td>4.832830</td>\n",
       "      <td>-4.439513</td>\n",
       "      <td>-1.451344</td>\n",
       "      <td>-2.721861</td>\n",
       "      <td>...</td>\n",
       "      <td>0.486363</td>\n",
       "      <td>8.394068</td>\n",
       "      <td>-2.682590</td>\n",
       "      <td>-9.243019</td>\n",
       "      <td>5.381615</td>\n",
       "      <td>2.910121</td>\n",
       "      <td>3.595655</td>\n",
       "      <td>-2.280110</td>\n",
       "      <td>1.252699</td>\n",
       "      <td>2</td>\n",
       "    </tr>\n",
       "    <tr>\n",
       "      <th>9999</th>\n",
       "      <td>-0.373368</td>\n",
       "      <td>4.067352</td>\n",
       "      <td>6.195042</td>\n",
       "      <td>-0.494051</td>\n",
       "      <td>4.145383</td>\n",
       "      <td>-2.624490</td>\n",
       "      <td>1.291072</td>\n",
       "      <td>-2.884467</td>\n",
       "      <td>-0.971827</td>\n",
       "      <td>-0.402517</td>\n",
       "      <td>...</td>\n",
       "      <td>-5.008337</td>\n",
       "      <td>6.127327</td>\n",
       "      <td>2.751966</td>\n",
       "      <td>2.079398</td>\n",
       "      <td>2.345705</td>\n",
       "      <td>0.657474</td>\n",
       "      <td>3.734415</td>\n",
       "      <td>-0.233744</td>\n",
       "      <td>1.399616</td>\n",
       "      <td>4</td>\n",
       "    </tr>\n",
       "  </tbody>\n",
       "</table>\n",
       "<p>10000 rows × 51 columns</p>\n",
       "</div>"
      ],
      "text/plain": [
       "             1          2         3          4         5         6         7  \\\n",
       "0     0.142372  32.657288 -7.730448   4.720582  1.568258  2.442761 -5.157877   \n",
       "1    -2.896494 -12.510719  2.946461  -2.668396 -0.916305 -0.200334 -1.743985   \n",
       "2     0.460402  -8.905278 -1.459329  10.314049 -8.029972  0.952764  3.177931   \n",
       "3    -4.089833  -5.590670  6.458277   1.337546 -0.796803 -2.234344  4.424185   \n",
       "4     2.650668  -8.724004 -2.215812   4.123960  4.956644 -0.742299  5.031477   \n",
       "...        ...        ...       ...        ...       ...       ...       ...   \n",
       "9995 -1.100735  15.213364  5.007623  -0.830010  7.672774  2.355998 -3.455195   \n",
       "9996 -5.561415 -12.735165 -0.478836  -0.179195  4.838815 -2.575770 -3.031419   \n",
       "9997  2.293387   0.643975  4.390060   2.035321 -6.289045  7.044275  0.652907   \n",
       "9998  7.082020 -13.758995  4.209430   4.613442  2.037272 -1.826698  4.832830   \n",
       "9999 -0.373368   4.067352  6.195042  -0.494051  4.145383 -2.624490  1.291072   \n",
       "\n",
       "             8         9        10  ...        42        43        44  \\\n",
       "0     6.716322  2.629221  5.684133  ... -2.458382  0.333226  2.951268   \n",
       "1     3.699803  1.157818 -1.296849  ...  1.498790  0.056741  0.282126   \n",
       "2     0.552431  4.700898 -4.111621  ... -1.126098  0.018442 -7.940069   \n",
       "3     1.359940  2.527629 -6.601302  ...  6.303319  0.135782 -4.201287   \n",
       "4     6.396224 -2.342482 -0.834182  ...  1.524804  0.277295  0.661463   \n",
       "...        ...       ...       ...  ...       ...       ...       ...   \n",
       "9995  6.957364  2.364012 -1.447949  ...  0.381977  1.778054 -5.518729   \n",
       "9996  1.560054  0.946963 -2.940964  ...  5.277907  0.949151  0.661492   \n",
       "9997  0.624932 -2.940570 -3.411253  ...  0.711627 -2.065676 -0.998032   \n",
       "9998 -4.439513 -1.451344 -2.721861  ...  0.486363  8.394068 -2.682590   \n",
       "9999 -2.884467 -0.971827 -0.402517  ... -5.008337  6.127327  2.751966   \n",
       "\n",
       "            45        46        47        48        49        50  Target  \n",
       "0    -2.972412 -3.706380  7.316846  8.735795 -5.489070 -4.914978       3  \n",
       "1    -0.087357  1.906403  3.332812 -1.338653  1.961578 -0.152210       4  \n",
       "2    -2.379509  9.708477  2.935679  0.990688  5.356984 -4.454972       3  \n",
       "3     1.495373 -1.308058  0.652483  1.597269  3.120452 -4.842632       1  \n",
       "4     4.958045 -0.386429  5.735642  3.811054  0.731921  2.344960       4  \n",
       "...        ...       ...       ...       ...       ...       ...     ...  \n",
       "9995  0.189646  5.517031  2.921632  6.155448  3.960628  0.596587       2  \n",
       "9996  1.844777 -0.908655 -2.014638  1.295149 -0.759301 -0.098660       0  \n",
       "9997  0.451014  5.997824  1.828278  2.586465 -0.991920  2.510131       1  \n",
       "9998 -9.243019  5.381615  2.910121  3.595655 -2.280110  1.252699       2  \n",
       "9999  2.079398  2.345705  0.657474  3.734415 -0.233744  1.399616       4  \n",
       "\n",
       "[10000 rows x 51 columns]"
      ]
     },
     "execution_count": 38,
     "metadata": {},
     "output_type": "execute_result"
    }
   ],
   "source": [
    "Sec_Artificial_df = pd.DataFrame(X_sec_Artificial,columns = ['1','2','3','4','5','6','7','8','9','10',\n",
    "                                                                 '11','12','13','14','15','16','17','18','19','20',\n",
    "                                                                 '21','22','23','24','25','26','27','28','29','30',\n",
    "                                                                '31','32','33','34','35','36','37','38','39','40',\n",
    "                                                                '41','42','43','44','45','46','47','48','49','50'])\n",
    "Sec_Artificial_df['Target'] = y_sec_Artificial\n",
    "Sec_Artificial_df = Sec_Artificial_df.astype({'Target': str})\n",
    "Sec_Artificial_df"
   ]
  },
  {
   "cell_type": "markdown",
   "id": "impressed-multimedia",
   "metadata": {},
   "source": [
    "# Algorithm Implementation Starts Here"
   ]
  },
  {
   "cell_type": "markdown",
   "id": "southeast-draft",
   "metadata": {},
   "source": [
    "## ID3"
   ]
  },
  {
   "cell_type": "markdown",
   "id": "little-collins",
   "metadata": {},
   "source": [
    "### A. German Credit Dataset"
   ]
  },
  {
   "cell_type": "code",
   "execution_count": 72,
   "id": "experimental-diagnosis",
   "metadata": {},
   "outputs": [],
   "source": [
    "credit_df_ID3_1 = credit_df.copy()\n",
    "credit_df_ID3_2 = credit_df.copy()\n",
    "credit_df_ID3_3 = credit_df.copy()"
   ]
  },
  {
   "cell_type": "markdown",
   "id": "funky-penalty",
   "metadata": {},
   "source": [
    "#### 1. Build ID3 model with null values"
   ]
  },
  {
   "cell_type": "code",
   "execution_count": 73,
   "id": "enabling-gates",
   "metadata": {},
   "outputs": [
    {
     "name": "stdout",
     "output_type": "stream",
     "text": [
      "[INFO]:  4 CPU cores will be allocated in parallel running\n",
      "ID3  tree is going to be built...\n",
      "-------------------------\n",
      "finished in  16.78615403175354  seconds\n",
      "-------------------------\n",
      "Evaluate  train set\n",
      "-------------------------\n",
      "Accuracy:  89.4 % on  1000  instances\n",
      "Labels:  ['good' 'bad']\n",
      "Confusion matrix:  [[673, 79], [27, 221]]\n",
      "Precision:  89.4947 %, Recall:  96.1429 %, F1:  92.6998 %\n"
     ]
    }
   ],
   "source": [
    "config = {'algorithm': 'ID3'}\n",
    "credit_model_no_bin = chef.fit(credit_df_ID3_1, config = config, target_label = 'Risk')"
   ]
  },
  {
   "cell_type": "code",
   "execution_count": 74,
   "id": "upset-duration",
   "metadata": {},
   "outputs": [
    {
     "name": "stdout",
     "output_type": "stream",
     "text": [
      "[INFO]:  4 CPU cores will be allocated in parallel running\n",
      "ID3  tree is going to be built...\n",
      "-------------------------\n",
      "finished in  16.7072970867157  seconds\n",
      "-------------------------\n",
      "Evaluate  train set\n",
      "-------------------------\n",
      "Accuracy:  91.7 % on  1000  instances\n",
      "Labels:  ['good' 'bad']\n",
      "Confusion matrix:  [[684, 67], [16, 233]]\n",
      "Precision:  91.0786 %, Recall:  97.7143 %, F1:  94.2798 %\n"
     ]
    }
   ],
   "source": [
    "credit_df_ID3_1['Saving accounts'] = credit_df_ID3_1['Saving accounts'].fillna('no_inf')\n",
    "credit_df_ID3_1['Checking account'] = credit_df_ID3_1['Checking account'].fillna('no_inf')\n",
    "config = {'algorithm': 'ID3'}\n",
    "credit_model_no_bin = chef.fit(credit_df_ID3_1, config = config, target_label = 'Risk')"
   ]
  },
  {
   "cell_type": "markdown",
   "id": "cleared-requirement",
   "metadata": {},
   "source": [
    "#### 2. Build ID3 model with no binning (treat continuous variables as categorical variables)"
   ]
  },
  {
   "cell_type": "code",
   "execution_count": 75,
   "id": "binary-anderson",
   "metadata": {},
   "outputs": [],
   "source": [
    "# Fill NaN \n",
    "credit_df_ID3_2['Saving accounts'] = credit_df_ID3_2['Saving accounts'].fillna('no_inf')\n",
    "credit_df_ID3_2['Checking account'] = credit_df_ID3_2['Checking account'].fillna('no_inf')\n",
    "# Change to String type\n",
    "credit_df_ID3_2.Age = credit_df_ID3_2.Age.astype(str)\n",
    "credit_df_ID3_2.Job = credit_df_ID3_2.Job.astype(str)\n",
    "credit_df_ID3_2.Duration = credit_df_ID3_2.Duration.astype(str)\n",
    "credit_df_ID3_2['Credit amount'] = credit_df_ID3_2['Credit amount'].astype(str)"
   ]
  },
  {
   "cell_type": "code",
   "execution_count": 76,
   "id": "sufficient-narrow",
   "metadata": {},
   "outputs": [],
   "source": [
    "# Train Test Split\n",
    "credit_df_X = credit_df_ID3_2.drop(\"Risk\", axis = 1)\n",
    "credit_df_Y = credit_df_ID3_2[\"Risk\"]\n",
    "credit_df_X_train, credit_df_X_test, credit_df_y_train, credit_df_y_test = train_test_split(credit_df_X, credit_df_Y, test_size=.2, random_state = 31)"
   ]
  },
  {
   "cell_type": "code",
   "execution_count": 77,
   "id": "super-aurora",
   "metadata": {},
   "outputs": [],
   "source": [
    "credit_df_train = pd.concat([credit_df_X_train, pd.DataFrame(credit_df_y_train)], axis=1)"
   ]
  },
  {
   "cell_type": "code",
   "execution_count": 78,
   "id": "accepting-browse",
   "metadata": {},
   "outputs": [
    {
     "name": "stdout",
     "output_type": "stream",
     "text": [
      "[INFO]:  4 CPU cores will be allocated in parallel running\n",
      "ID3  tree is going to be built...\n",
      "-------------------------\n",
      "finished in  47.647764921188354  seconds\n",
      "-------------------------\n",
      "Evaluate  train set\n",
      "-------------------------\n",
      "Accuracy:  100.0 % on  800  instances\n",
      "Labels:  ['bad' 'good']\n",
      "Confusion matrix:  [[235, 0], [0, 565]]\n",
      "Precision:  100.0 %, Recall:  100.0 %, F1:  100.0 %\n"
     ]
    }
   ],
   "source": [
    "config = {'algorithm': 'ID3'}\n",
    "credit_model_ID3_2 = chef.fit(credit_df_train, config = config, target_label = 'Risk')"
   ]
  },
  {
   "cell_type": "code",
   "execution_count": 79,
   "id": "recognized-demonstration",
   "metadata": {},
   "outputs": [
    {
     "data": {
      "text/html": [
       "<div>\n",
       "<style scoped>\n",
       "    .dataframe tbody tr th:only-of-type {\n",
       "        vertical-align: middle;\n",
       "    }\n",
       "\n",
       "    .dataframe tbody tr th {\n",
       "        vertical-align: top;\n",
       "    }\n",
       "\n",
       "    .dataframe thead th {\n",
       "        text-align: right;\n",
       "    }\n",
       "</style>\n",
       "<table border=\"1\" class=\"dataframe\">\n",
       "  <thead>\n",
       "    <tr style=\"text-align: right;\">\n",
       "      <th></th>\n",
       "      <th>Age</th>\n",
       "      <th>Sex</th>\n",
       "      <th>Job</th>\n",
       "      <th>Housing</th>\n",
       "      <th>Saving accounts</th>\n",
       "      <th>Checking account</th>\n",
       "      <th>Credit amount</th>\n",
       "      <th>Duration</th>\n",
       "      <th>Purpose</th>\n",
       "      <th>Risk</th>\n",
       "    </tr>\n",
       "  </thead>\n",
       "  <tbody>\n",
       "    <tr>\n",
       "      <th>545</th>\n",
       "      <td>43</td>\n",
       "      <td>male</td>\n",
       "      <td>2</td>\n",
       "      <td>free</td>\n",
       "      <td>little</td>\n",
       "      <td>little</td>\n",
       "      <td>1333</td>\n",
       "      <td>24</td>\n",
       "      <td>car</td>\n",
       "      <td>bad</td>\n",
       "    </tr>\n",
       "    <tr>\n",
       "      <th>215</th>\n",
       "      <td>39</td>\n",
       "      <td>female</td>\n",
       "      <td>1</td>\n",
       "      <td>own</td>\n",
       "      <td>no_inf</td>\n",
       "      <td>moderate</td>\n",
       "      <td>932</td>\n",
       "      <td>6</td>\n",
       "      <td>education</td>\n",
       "      <td>good</td>\n",
       "    </tr>\n",
       "    <tr>\n",
       "      <th>589</th>\n",
       "      <td>60</td>\n",
       "      <td>male</td>\n",
       "      <td>2</td>\n",
       "      <td>own</td>\n",
       "      <td>little</td>\n",
       "      <td>little</td>\n",
       "      <td>2246</td>\n",
       "      <td>12</td>\n",
       "      <td>furniture/equipment</td>\n",
       "      <td>bad</td>\n",
       "    </tr>\n",
       "    <tr>\n",
       "      <th>582</th>\n",
       "      <td>26</td>\n",
       "      <td>female</td>\n",
       "      <td>2</td>\n",
       "      <td>rent</td>\n",
       "      <td>little</td>\n",
       "      <td>no_inf</td>\n",
       "      <td>1388</td>\n",
       "      <td>9</td>\n",
       "      <td>furniture/equipment</td>\n",
       "      <td>good</td>\n",
       "    </tr>\n",
       "    <tr>\n",
       "      <th>544</th>\n",
       "      <td>61</td>\n",
       "      <td>male</td>\n",
       "      <td>1</td>\n",
       "      <td>own</td>\n",
       "      <td>little</td>\n",
       "      <td>no_inf</td>\n",
       "      <td>1255</td>\n",
       "      <td>12</td>\n",
       "      <td>car</td>\n",
       "      <td>good</td>\n",
       "    </tr>\n",
       "    <tr>\n",
       "      <th>...</th>\n",
       "      <td>...</td>\n",
       "      <td>...</td>\n",
       "      <td>...</td>\n",
       "      <td>...</td>\n",
       "      <td>...</td>\n",
       "      <td>...</td>\n",
       "      <td>...</td>\n",
       "      <td>...</td>\n",
       "      <td>...</td>\n",
       "      <td>...</td>\n",
       "    </tr>\n",
       "    <tr>\n",
       "      <th>610</th>\n",
       "      <td>22</td>\n",
       "      <td>female</td>\n",
       "      <td>2</td>\n",
       "      <td>own</td>\n",
       "      <td>moderate</td>\n",
       "      <td>little</td>\n",
       "      <td>741</td>\n",
       "      <td>12</td>\n",
       "      <td>domestic appliances</td>\n",
       "      <td>bad</td>\n",
       "    </tr>\n",
       "    <tr>\n",
       "      <th>894</th>\n",
       "      <td>29</td>\n",
       "      <td>male</td>\n",
       "      <td>2</td>\n",
       "      <td>own</td>\n",
       "      <td>no_inf</td>\n",
       "      <td>no_inf</td>\n",
       "      <td>1169</td>\n",
       "      <td>18</td>\n",
       "      <td>radio/TV</td>\n",
       "      <td>good</td>\n",
       "    </tr>\n",
       "    <tr>\n",
       "      <th>16</th>\n",
       "      <td>53</td>\n",
       "      <td>male</td>\n",
       "      <td>2</td>\n",
       "      <td>own</td>\n",
       "      <td>no_inf</td>\n",
       "      <td>no_inf</td>\n",
       "      <td>2424</td>\n",
       "      <td>24</td>\n",
       "      <td>radio/TV</td>\n",
       "      <td>good</td>\n",
       "    </tr>\n",
       "    <tr>\n",
       "      <th>599</th>\n",
       "      <td>32</td>\n",
       "      <td>male</td>\n",
       "      <td>2</td>\n",
       "      <td>free</td>\n",
       "      <td>little</td>\n",
       "      <td>no_inf</td>\n",
       "      <td>3863</td>\n",
       "      <td>24</td>\n",
       "      <td>business</td>\n",
       "      <td>good</td>\n",
       "    </tr>\n",
       "    <tr>\n",
       "      <th>722</th>\n",
       "      <td>24</td>\n",
       "      <td>female</td>\n",
       "      <td>1</td>\n",
       "      <td>own</td>\n",
       "      <td>little</td>\n",
       "      <td>little</td>\n",
       "      <td>1228</td>\n",
       "      <td>12</td>\n",
       "      <td>car</td>\n",
       "      <td>bad</td>\n",
       "    </tr>\n",
       "  </tbody>\n",
       "</table>\n",
       "<p>800 rows × 10 columns</p>\n",
       "</div>"
      ],
      "text/plain": [
       "    Age     Sex Job Housing Saving accounts Checking account Credit amount  \\\n",
       "545  43    male   2    free          little           little          1333   \n",
       "215  39  female   1     own          no_inf         moderate           932   \n",
       "589  60    male   2     own          little           little          2246   \n",
       "582  26  female   2    rent          little           no_inf          1388   \n",
       "544  61    male   1     own          little           no_inf          1255   \n",
       "..   ..     ...  ..     ...             ...              ...           ...   \n",
       "610  22  female   2     own        moderate           little           741   \n",
       "894  29    male   2     own          no_inf           no_inf          1169   \n",
       "16   53    male   2     own          no_inf           no_inf          2424   \n",
       "599  32    male   2    free          little           no_inf          3863   \n",
       "722  24  female   1     own          little           little          1228   \n",
       "\n",
       "    Duration              Purpose  Risk  \n",
       "545       24                  car   bad  \n",
       "215        6            education  good  \n",
       "589       12  furniture/equipment   bad  \n",
       "582        9  furniture/equipment  good  \n",
       "544       12                  car  good  \n",
       "..       ...                  ...   ...  \n",
       "610       12  domestic appliances   bad  \n",
       "894       18             radio/TV  good  \n",
       "16        24             radio/TV  good  \n",
       "599       24             business  good  \n",
       "722       12                  car   bad  \n",
       "\n",
       "[800 rows x 10 columns]"
      ]
     },
     "execution_count": 79,
     "metadata": {},
     "output_type": "execute_result"
    }
   ],
   "source": [
    "credit_df_train"
   ]
  },
  {
   "cell_type": "code",
   "execution_count": 80,
   "id": "sticky-globe",
   "metadata": {},
   "outputs": [],
   "source": [
    "credit_df_test_list = credit_df_X_test.values.tolist()\n",
    "credit_df_test_pre = []\n",
    "for item in credit_df_test_list:\n",
    "    credit_df_test_pre.append(chef.predict(credit_model_ID3_2, item))"
   ]
  },
  {
   "cell_type": "code",
   "execution_count": 81,
   "id": "moving-scout",
   "metadata": {},
   "outputs": [
    {
     "name": "stdout",
     "output_type": "stream",
     "text": [
      "The accuracy for the test dataset is 66.5%.\n"
     ]
    }
   ],
   "source": [
    "correct = 0\n",
    "for i in range(0,200):\n",
    "    if credit_df_test_pre[i] == list(credit_df_y_test)[i]:\n",
    "        correct = correct + 1\n",
    "print(\"The accuracy for the test dataset is \"+ str((correct/200)*100)+\"%.\")"
   ]
  },
  {
   "cell_type": "markdown",
   "id": "technical-colorado",
   "metadata": {},
   "source": [
    "#### 3. Build ID3 model with binning & Binning the continuos variables age, credit amount and duration"
   ]
  },
  {
   "cell_type": "code",
   "execution_count": 41,
   "id": "complicated-algorithm",
   "metadata": {},
   "outputs": [],
   "source": [
    "def quantile_bin_label(dataframe, column):\n",
    "    q_25 = np.percentile(dataframe[dataframe[column] >= 0][column], 25, interpolation = 'midpoint')\n",
    "    q_50 = np.percentile(dataframe[dataframe[column] >= 0][column], 50, interpolation = 'midpoint')\n",
    "    q_75 = np.percentile(dataframe[dataframe[column] >= 0][column], 75, interpolation = 'midpoint')\n",
    "    q_100 = np.percentile(dataframe[dataframe[column] >= 0][column], 100, interpolation = 'midpoint')\n",
    "    label_column = []\n",
    "    q_list = list(dataframe[column])\n",
    "    del dataframe[column]\n",
    "    for item in q_list:\n",
    "        if item < q_25:\n",
    "            label_column.append(\"1\")\n",
    "        elif item >= q_25 and item < q_50:\n",
    "            label_column.append(\"2\")\n",
    "        elif item >= q_50 and item < q_75:\n",
    "            label_column.append(\"3\")\n",
    "        else:\n",
    "            label_column.append(\"4\")\n",
    "    dataframe[column] = label_column"
   ]
  },
  {
   "cell_type": "code",
   "execution_count": 83,
   "id": "furnished-peace",
   "metadata": {},
   "outputs": [],
   "source": [
    "age_list = []\n",
    "for age in credit_df_ID3_3.Age:\n",
    "    if age >= 19 and age < 24:\n",
    "        age_list.append(\"1\")\n",
    "    elif age >= 24 and age < 34:\n",
    "        age_list.append(\"2\")\n",
    "    elif age >= 34 and age < 44:\n",
    "        age_list.append(\"3\")\n",
    "    elif age >= 44 and age < 64:\n",
    "        age_list.append(\"4\")\n",
    "    else:\n",
    "        age_list.append(\"5\")\n",
    "credit_df_ID3_3.drop(\"Age\", inplace = True, axis =1)\n",
    "credit_df_ID3_3[\"Age_1\"] = age_list"
   ]
  },
  {
   "cell_type": "code",
   "execution_count": 84,
   "id": "alleged-concentrate",
   "metadata": {},
   "outputs": [],
   "source": [
    "for column in [\"Credit amount\", \"Duration\"]:\n",
    "    quantile_bin_label(credit_df_ID3_3, column)\n",
    "credit_df_ID3_3.Job = credit_df_ID3_3.Job.astype(str)\n",
    "credit_df_ID3_3['Saving accounts'] = credit_df_ID3_3['Saving accounts'].fillna('no_inf')\n",
    "credit_df_ID3_3['Checking account'] = credit_df_ID3_3['Checking account'].fillna('no_inf')"
   ]
  },
  {
   "cell_type": "code",
   "execution_count": 85,
   "id": "minimal-transformation",
   "metadata": {},
   "outputs": [],
   "source": [
    "credit_df_X = credit_df_ID3_3.drop(\"Risk\", axis = 1)\n",
    "credit_df_Y = credit_df_ID3_3[\"Risk\"]\n",
    "credit_df_X_train, credit_df_X_test, credit_df_y_train, credit_df_y_test = train_test_split(credit_df_X, credit_df_Y, test_size=.2, random_state = 12345)"
   ]
  },
  {
   "cell_type": "code",
   "execution_count": 86,
   "id": "corresponding-competition",
   "metadata": {},
   "outputs": [],
   "source": [
    "credit_df_train = pd.concat([credit_df_X_train, pd.DataFrame(credit_df_y_train)], axis=1)"
   ]
  },
  {
   "cell_type": "code",
   "execution_count": 87,
   "id": "shared-musician",
   "metadata": {},
   "outputs": [
    {
     "data": {
      "text/html": [
       "<div>\n",
       "<style scoped>\n",
       "    .dataframe tbody tr th:only-of-type {\n",
       "        vertical-align: middle;\n",
       "    }\n",
       "\n",
       "    .dataframe tbody tr th {\n",
       "        vertical-align: top;\n",
       "    }\n",
       "\n",
       "    .dataframe thead th {\n",
       "        text-align: right;\n",
       "    }\n",
       "</style>\n",
       "<table border=\"1\" class=\"dataframe\">\n",
       "  <thead>\n",
       "    <tr style=\"text-align: right;\">\n",
       "      <th></th>\n",
       "      <th>Sex</th>\n",
       "      <th>Job</th>\n",
       "      <th>Housing</th>\n",
       "      <th>Saving accounts</th>\n",
       "      <th>Checking account</th>\n",
       "      <th>Purpose</th>\n",
       "      <th>Age_1</th>\n",
       "      <th>Credit amount</th>\n",
       "      <th>Duration</th>\n",
       "      <th>Risk</th>\n",
       "    </tr>\n",
       "  </thead>\n",
       "  <tbody>\n",
       "    <tr>\n",
       "      <th>839</th>\n",
       "      <td>male</td>\n",
       "      <td>2</td>\n",
       "      <td>own</td>\n",
       "      <td>little</td>\n",
       "      <td>no_inf</td>\n",
       "      <td>radio/TV</td>\n",
       "      <td>4</td>\n",
       "      <td>3</td>\n",
       "      <td>4</td>\n",
       "      <td>good</td>\n",
       "    </tr>\n",
       "    <tr>\n",
       "      <th>195</th>\n",
       "      <td>female</td>\n",
       "      <td>3</td>\n",
       "      <td>own</td>\n",
       "      <td>little</td>\n",
       "      <td>moderate</td>\n",
       "      <td>education</td>\n",
       "      <td>3</td>\n",
       "      <td>2</td>\n",
       "      <td>1</td>\n",
       "      <td>bad</td>\n",
       "    </tr>\n",
       "    <tr>\n",
       "      <th>581</th>\n",
       "      <td>male</td>\n",
       "      <td>1</td>\n",
       "      <td>own</td>\n",
       "      <td>little</td>\n",
       "      <td>moderate</td>\n",
       "      <td>car</td>\n",
       "      <td>4</td>\n",
       "      <td>3</td>\n",
       "      <td>2</td>\n",
       "      <td>good</td>\n",
       "    </tr>\n",
       "    <tr>\n",
       "      <th>695</th>\n",
       "      <td>male</td>\n",
       "      <td>2</td>\n",
       "      <td>rent</td>\n",
       "      <td>quite rich</td>\n",
       "      <td>no_inf</td>\n",
       "      <td>car</td>\n",
       "      <td>4</td>\n",
       "      <td>1</td>\n",
       "      <td>1</td>\n",
       "      <td>good</td>\n",
       "    </tr>\n",
       "    <tr>\n",
       "      <th>35</th>\n",
       "      <td>male</td>\n",
       "      <td>1</td>\n",
       "      <td>own</td>\n",
       "      <td>little</td>\n",
       "      <td>moderate</td>\n",
       "      <td>radio/TV</td>\n",
       "      <td>2</td>\n",
       "      <td>4</td>\n",
       "      <td>4</td>\n",
       "      <td>bad</td>\n",
       "    </tr>\n",
       "    <tr>\n",
       "      <th>...</th>\n",
       "      <td>...</td>\n",
       "      <td>...</td>\n",
       "      <td>...</td>\n",
       "      <td>...</td>\n",
       "      <td>...</td>\n",
       "      <td>...</td>\n",
       "      <td>...</td>\n",
       "      <td>...</td>\n",
       "      <td>...</td>\n",
       "      <td>...</td>\n",
       "    </tr>\n",
       "    <tr>\n",
       "      <th>420</th>\n",
       "      <td>female</td>\n",
       "      <td>2</td>\n",
       "      <td>rent</td>\n",
       "      <td>rich</td>\n",
       "      <td>no_inf</td>\n",
       "      <td>car</td>\n",
       "      <td>1</td>\n",
       "      <td>3</td>\n",
       "      <td>2</td>\n",
       "      <td>good</td>\n",
       "    </tr>\n",
       "    <tr>\n",
       "      <th>129</th>\n",
       "      <td>female</td>\n",
       "      <td>2</td>\n",
       "      <td>own</td>\n",
       "      <td>little</td>\n",
       "      <td>little</td>\n",
       "      <td>car</td>\n",
       "      <td>2</td>\n",
       "      <td>3</td>\n",
       "      <td>2</td>\n",
       "      <td>bad</td>\n",
       "    </tr>\n",
       "    <tr>\n",
       "      <th>285</th>\n",
       "      <td>female</td>\n",
       "      <td>1</td>\n",
       "      <td>own</td>\n",
       "      <td>little</td>\n",
       "      <td>little</td>\n",
       "      <td>car</td>\n",
       "      <td>3</td>\n",
       "      <td>4</td>\n",
       "      <td>4</td>\n",
       "      <td>good</td>\n",
       "    </tr>\n",
       "    <tr>\n",
       "      <th>485</th>\n",
       "      <td>male</td>\n",
       "      <td>3</td>\n",
       "      <td>own</td>\n",
       "      <td>little</td>\n",
       "      <td>moderate</td>\n",
       "      <td>car</td>\n",
       "      <td>4</td>\n",
       "      <td>1</td>\n",
       "      <td>1</td>\n",
       "      <td>bad</td>\n",
       "    </tr>\n",
       "    <tr>\n",
       "      <th>482</th>\n",
       "      <td>female</td>\n",
       "      <td>2</td>\n",
       "      <td>rent</td>\n",
       "      <td>rich</td>\n",
       "      <td>little</td>\n",
       "      <td>furniture/equipment</td>\n",
       "      <td>4</td>\n",
       "      <td>3</td>\n",
       "      <td>4</td>\n",
       "      <td>good</td>\n",
       "    </tr>\n",
       "  </tbody>\n",
       "</table>\n",
       "<p>800 rows × 10 columns</p>\n",
       "</div>"
      ],
      "text/plain": [
       "        Sex Job Housing Saving accounts Checking account              Purpose  \\\n",
       "839    male   2     own          little           no_inf             radio/TV   \n",
       "195  female   3     own          little         moderate            education   \n",
       "581    male   1     own          little         moderate                  car   \n",
       "695    male   2    rent      quite rich           no_inf                  car   \n",
       "35     male   1     own          little         moderate             radio/TV   \n",
       "..      ...  ..     ...             ...              ...                  ...   \n",
       "420  female   2    rent            rich           no_inf                  car   \n",
       "129  female   2     own          little           little                  car   \n",
       "285  female   1     own          little           little                  car   \n",
       "485    male   3     own          little         moderate                  car   \n",
       "482  female   2    rent            rich           little  furniture/equipment   \n",
       "\n",
       "    Age_1 Credit amount Duration  Risk  \n",
       "839     4             3        4  good  \n",
       "195     3             2        1   bad  \n",
       "581     4             3        2  good  \n",
       "695     4             1        1  good  \n",
       "35      2             4        4   bad  \n",
       "..    ...           ...      ...   ...  \n",
       "420     1             3        2  good  \n",
       "129     2             3        2   bad  \n",
       "285     3             4        4  good  \n",
       "485     4             1        1   bad  \n",
       "482     4             3        4  good  \n",
       "\n",
       "[800 rows x 10 columns]"
      ]
     },
     "execution_count": 87,
     "metadata": {},
     "output_type": "execute_result"
    }
   ],
   "source": [
    "credit_df_train"
   ]
  },
  {
   "cell_type": "code",
   "execution_count": 88,
   "id": "tested-roads",
   "metadata": {},
   "outputs": [
    {
     "name": "stdout",
     "output_type": "stream",
     "text": [
      "[INFO]:  4 CPU cores will be allocated in parallel running\n",
      "ID3  tree is going to be built...\n",
      "-------------------------\n",
      "finished in  46.39098286628723  seconds\n",
      "-------------------------\n",
      "Evaluate  train set\n",
      "-------------------------\n",
      "Accuracy:  98.25 % on  800  instances\n",
      "Labels:  ['good' 'bad']\n",
      "Confusion matrix:  [[548, 8], [6, 238]]\n",
      "Precision:  98.5612 %, Recall:  98.917 %, F1:  98.7388 %\n"
     ]
    }
   ],
   "source": [
    "config = {'algorithm': 'ID3'}\n",
    "credit_model_ID3_3 = chef.fit(credit_df_train, config = config, target_label = 'Risk')"
   ]
  },
  {
   "cell_type": "code",
   "execution_count": 89,
   "id": "joined-reference",
   "metadata": {},
   "outputs": [],
   "source": [
    "credit_df_test_list = credit_df_X_test.values.tolist()\n",
    "credit_df_test_pre = []\n",
    "for item in credit_df_test_list:\n",
    "    credit_df_test_pre.append(chef.predict(credit_model_ID3_3, item))"
   ]
  },
  {
   "cell_type": "code",
   "execution_count": 90,
   "id": "quiet-conspiracy",
   "metadata": {},
   "outputs": [
    {
     "name": "stdout",
     "output_type": "stream",
     "text": [
      "The accuracy for the test dataset is 67.5%.\n"
     ]
    }
   ],
   "source": [
    "correct = 0\n",
    "for i in range(0,200):\n",
    "    if credit_df_test_pre[i] ==list(credit_df_y_test)[i]:\n",
    "        correct = correct + 1\n",
    "print(\"The accuracy for the test dataset is \"+ str((correct/200)*100)+\"%.\")"
   ]
  },
  {
   "cell_type": "markdown",
   "id": "classified-fleet",
   "metadata": {},
   "source": [
    "### B. Wine Quality Dataset"
   ]
  },
  {
   "cell_type": "code",
   "execution_count": 126,
   "id": "billion-failure",
   "metadata": {},
   "outputs": [],
   "source": [
    "wine_df_ID3_1 = wine_df.copy()\n",
    "wine_df_ID3_2 = wine_df.copy()"
   ]
  },
  {
   "cell_type": "markdown",
   "id": "artistic-synthesis",
   "metadata": {},
   "source": [
    "#### 1. Build the ID3 model without any binnings and treat target variable as 6 categories"
   ]
  },
  {
   "cell_type": "code",
   "execution_count": 127,
   "id": "scientific-repair",
   "metadata": {},
   "outputs": [],
   "source": [
    "wine_df_ID3_1 = wine_df_ID3_1.astype(str)\n",
    "wine_df_X = wine_df_ID3_1.drop(\"quality\", axis = 1)\n",
    "wine_df_Y = wine_df_ID3_1[\"quality\"]\n",
    "wine_df_X_train, wine_df_X_test, wine_df_y_train, wine_df_y_test = train_test_split(wine_df_X, wine_df_Y, test_size=.2, random_state = 42)"
   ]
  },
  {
   "cell_type": "code",
   "execution_count": 128,
   "id": "cloudy-ceramic",
   "metadata": {},
   "outputs": [],
   "source": [
    "wine_df_train = pd.concat([wine_df_X_train, pd.DataFrame(wine_df_y_train)], axis=1)"
   ]
  },
  {
   "cell_type": "code",
   "execution_count": 129,
   "id": "given-rating",
   "metadata": {},
   "outputs": [
    {
     "name": "stdout",
     "output_type": "stream",
     "text": [
      "[INFO]:  4 CPU cores will be allocated in parallel running\n",
      "ID3  tree is going to be built...\n",
      "-------------------------\n",
      "finished in  82.30833983421326  seconds\n",
      "-------------------------\n",
      "Evaluate  train set\n",
      "-------------------------\n",
      "Accuracy:  100.0 % on  1279  instances\n",
      "Labels:  ['6' '5' '4' '7' '8' '3']\n",
      "Confusion matrix:  [[506, 0, 0, 0, 0, 0], [0, 551, 0, 0, 0, 0], [0, 0, 43, 0, 0, 0], [0, 0, 0, 157, 0, 0], [0, 0, 0, 0, 13, 0], [0, 0, 0, 0, 0, 9]]\n",
      "Decision  6  => Accuray:  100.0 %, Precision:  100.0 %, Recall:  100.0 %, F1:  100.0 %\n",
      "Decision  5  => Accuray:  100.0 %, Precision:  100.0 %, Recall:  100.0 %, F1:  100.0 %\n",
      "Decision  4  => Accuray:  100.0 %, Precision:  100.0 %, Recall:  100.0 %, F1:  100.0 %\n",
      "Decision  7  => Accuray:  100.0 %, Precision:  100.0 %, Recall:  100.0 %, F1:  100.0 %\n",
      "Decision  8  => Accuray:  100.0 %, Precision:  100.0 %, Recall:  100.0 %, F1:  100.0 %\n",
      "Decision  3  => Accuray:  100.0 %, Precision:  100.0 %, Recall:  100.0 %, F1:  100.0 %\n"
     ]
    }
   ],
   "source": [
    "config = {'algorithm': 'ID3'}\n",
    "wine_model_train = chef.fit(wine_df_train, config = config, target_label = 'quality')"
   ]
  },
  {
   "cell_type": "code",
   "execution_count": 130,
   "id": "increasing-performer",
   "metadata": {},
   "outputs": [],
   "source": [
    "wine_test_list = wine_df_X_test.values.tolist()\n",
    "wine_test_pre = []\n",
    "for item in wine_test_list:\n",
    "    wine_test_pre.append(chef.predict(wine_model_train, item))"
   ]
  },
  {
   "cell_type": "code",
   "execution_count": 131,
   "id": "extended-prague",
   "metadata": {},
   "outputs": [
    {
     "name": "stdout",
     "output_type": "stream",
     "text": [
      "The accuracy for the test dataset is 50.625%.\n"
     ]
    }
   ],
   "source": [
    "correct = 0\n",
    "for i in range(0,320):\n",
    "    if wine_test_pre[i] ==list(wine_df_y_test)[i]:\n",
    "        correct = correct + 1\n",
    "print(\"The accuracy for the test dataset is \"+ str((correct/320)*100)+\"%.\")"
   ]
  },
  {
   "cell_type": "markdown",
   "id": "silent-migration",
   "metadata": {},
   "source": [
    "#### 2. Binning all continuous columns"
   ]
  },
  {
   "cell_type": "code",
   "execution_count": 42,
   "id": "fourth-fifty",
   "metadata": {},
   "outputs": [
    {
     "ename": "NameError",
     "evalue": "name 'wine_df_ID3_2' is not defined",
     "output_type": "error",
     "traceback": [
      "\u001b[0;31m---------------------------------------------------------------------------\u001b[0m",
      "\u001b[0;31mNameError\u001b[0m                                 Traceback (most recent call last)",
      "\u001b[0;32m<ipython-input-42-accd2cf5d151>\u001b[0m in \u001b[0;36m<module>\u001b[0;34m\u001b[0m\n\u001b[0;32m----> 1\u001b[0;31m \u001b[0mwine_df_ID3_2\u001b[0m\u001b[0;34m.\u001b[0m\u001b[0mquality\u001b[0m \u001b[0;34m=\u001b[0m \u001b[0mwine_df_ID3_2\u001b[0m\u001b[0;34m.\u001b[0m\u001b[0mquality\u001b[0m\u001b[0;34m.\u001b[0m\u001b[0mastype\u001b[0m\u001b[0;34m(\u001b[0m\u001b[0mstr\u001b[0m\u001b[0;34m)\u001b[0m\u001b[0;34m\u001b[0m\u001b[0;34m\u001b[0m\u001b[0m\n\u001b[0m\u001b[1;32m      2\u001b[0m for item in ['fixed acidity', 'volatile acidity', 'citric acid', 'residual sugar',\n\u001b[1;32m      3\u001b[0m        \u001b[0;34m'chlorides'\u001b[0m\u001b[0;34m,\u001b[0m \u001b[0;34m'free sulfur dioxide'\u001b[0m\u001b[0;34m,\u001b[0m \u001b[0;34m'total sulfur dioxide'\u001b[0m\u001b[0;34m,\u001b[0m \u001b[0;34m'density'\u001b[0m\u001b[0;34m,\u001b[0m\u001b[0;34m\u001b[0m\u001b[0;34m\u001b[0m\u001b[0m\n\u001b[1;32m      4\u001b[0m        'pH', 'sulphates', 'alcohol']:\n\u001b[1;32m      5\u001b[0m     \u001b[0mquantile_bin_label\u001b[0m\u001b[0;34m(\u001b[0m\u001b[0mwine_df_ID3_2\u001b[0m\u001b[0;34m,\u001b[0m \u001b[0mitem\u001b[0m\u001b[0;34m)\u001b[0m\u001b[0;34m\u001b[0m\u001b[0;34m\u001b[0m\u001b[0m\n",
      "\u001b[0;31mNameError\u001b[0m: name 'wine_df_ID3_2' is not defined"
     ]
    }
   ],
   "source": [
    "wine_df_ID3_2.quality = wine_df_ID3_2.quality.astype(str)\n",
    "for item in ['fixed acidity', 'volatile acidity', 'citric acid', 'residual sugar',\n",
    "       'chlorides', 'free sulfur dioxide', 'total sulfur dioxide', 'density',\n",
    "       'pH', 'sulphates', 'alcohol']:\n",
    "    quantile_bin_label(wine_df_ID3_2, item)"
   ]
  },
  {
   "cell_type": "code",
   "execution_count": 133,
   "id": "contemporary-calvin",
   "metadata": {},
   "outputs": [],
   "source": [
    "wine_df_X_2 = wine_df_ID3_2.drop(\"quality\", axis = 1)\n",
    "wine_df_Y_2 = wine_df_ID3_2[\"quality\"]\n",
    "wine_df_X_train_2, wine_df_X_test_2, wine_df_y_train_2, wine_df_y_test_2 = train_test_split(wine_df_X_2, wine_df_Y_2, test_size=.2, random_state = 42)"
   ]
  },
  {
   "cell_type": "code",
   "execution_count": 134,
   "id": "warming-pottery",
   "metadata": {},
   "outputs": [],
   "source": [
    "wine_df_train_2 = pd.concat([wine_df_X_train_2, pd.DataFrame(wine_df_y_train_2)], axis=1)"
   ]
  },
  {
   "cell_type": "code",
   "execution_count": 135,
   "id": "important-inventory",
   "metadata": {},
   "outputs": [
    {
     "name": "stdout",
     "output_type": "stream",
     "text": [
      "[INFO]:  4 CPU cores will be allocated in parallel running\n",
      "ID3  tree is going to be built...\n",
      "-------------------------\n",
      "finished in  90.81515097618103  seconds\n",
      "-------------------------\n",
      "Evaluate  train set\n",
      "-------------------------\n",
      "Accuracy:  99.29632525410477 % on  1279  instances\n",
      "Labels:  ['6' '5' '4' '7' '8' '3']\n",
      "Confusion matrix:  [[504, 4, 1, 0, 0, 0], [1, 546, 0, 0, 0, 0], [1, 0, 41, 0, 0, 0], [0, 1, 0, 157, 0, 0], [0, 0, 0, 0, 13, 0], [0, 0, 1, 0, 0, 9]]\n",
      "Decision  6  => Accuray:  99.4527 %, Precision:  99.0177 %, Recall:  99.6047 %, F1:  99.3103 %\n",
      "Decision  5  => Accuray:  99.5309 %, Precision:  99.8172 %, Recall:  99.0926 %, F1:  99.4536 %\n",
      "Decision  4  => Accuray:  99.7654 %, Precision:  97.619 %, Recall:  95.3488 %, F1:  96.4705 %\n",
      "Decision  7  => Accuray:  99.9218 %, Precision:  99.3671 %, Recall:  100.0 %, F1:  99.6825 %\n",
      "Decision  8  => Accuray:  100.0 %, Precision:  100.0 %, Recall:  100.0 %, F1:  100.0 %\n",
      "Decision  3  => Accuray:  99.9218 %, Precision:  90.0 %, Recall:  100.0 %, F1:  94.7368 %\n"
     ]
    }
   ],
   "source": [
    "config = {'algorithm': 'ID3'}\n",
    "wine_model_train_2 = chef.fit(wine_df_train_2, config = config, target_label = 'quality')"
   ]
  },
  {
   "cell_type": "code",
   "execution_count": 136,
   "id": "portuguese-space",
   "metadata": {},
   "outputs": [],
   "source": [
    "wine_test_list_2 = wine_df_X_test_2.values.tolist()\n",
    "wine_test_pre_2 = []\n",
    "for item in wine_test_list_2:\n",
    "    wine_test_pre_2.append(chef.predict(wine_model_train_2, item))"
   ]
  },
  {
   "cell_type": "code",
   "execution_count": 137,
   "id": "metallic-rabbit",
   "metadata": {},
   "outputs": [
    {
     "name": "stdout",
     "output_type": "stream",
     "text": [
      "The accuracy for the test dataset is 57.1875%.\n"
     ]
    }
   ],
   "source": [
    "correct = 0\n",
    "for i in range(0,320):\n",
    "    if wine_test_pre_2[i] ==list(wine_df_y_test_2)[i]:\n",
    "        correct = correct + 1\n",
    "print(\"The accuracy for the test dataset is \"+ str((correct/320)*100)+\"%.\")"
   ]
  },
  {
   "cell_type": "markdown",
   "id": "mediterranean-guard",
   "metadata": {},
   "source": [
    "### C. Adult Income Dataset"
   ]
  },
  {
   "cell_type": "code",
   "execution_count": 47,
   "id": "educated-conservative",
   "metadata": {},
   "outputs": [],
   "source": [
    "adult_df_ID3_1 = adult_df.copy()"
   ]
  },
  {
   "cell_type": "code",
   "execution_count": 49,
   "id": "severe-master",
   "metadata": {},
   "outputs": [],
   "source": [
    "adult_df_ID3_sample = adult_df_ID3_1.sample(n=10000, random_state = 42)"
   ]
  },
  {
   "cell_type": "code",
   "execution_count": 50,
   "id": "vietnamese-reply",
   "metadata": {},
   "outputs": [],
   "source": [
    "for item in [\"age\",\"fnlwgt\",\"educational-num\",\"capital-gain\",\"capital-loss\",\"hours-per-week\"]:\n",
    "    quantile_bin_label(adult_df_ID3_sample, item)"
   ]
  },
  {
   "cell_type": "code",
   "execution_count": 51,
   "id": "handed-boundary",
   "metadata": {},
   "outputs": [],
   "source": [
    "adult_df_X = adult_df_ID3_sample.drop(\"income\", axis = 1)\n",
    "adult_df_Y = adult_df_ID3_sample[\"income\"]\n",
    "adult_df_X_train, adult_df_X_test, adult_df_y_train, adult_df_y_test = train_test_split(adult_df_X, adult_df_Y, test_size=.2, random_state = 42)"
   ]
  },
  {
   "cell_type": "code",
   "execution_count": 52,
   "id": "advised-economics",
   "metadata": {},
   "outputs": [],
   "source": [
    "adult_df_train = pd.concat([adult_df_X_train, pd.DataFrame(adult_df_y_train)], axis=1)"
   ]
  },
  {
   "cell_type": "code",
   "execution_count": 53,
   "id": "reported-marketing",
   "metadata": {},
   "outputs": [
    {
     "name": "stdout",
     "output_type": "stream",
     "text": [
      "[INFO]:  4 CPU cores will be allocated in parallel running\n",
      "ID3  tree is going to be built...\n",
      "-------------------------\n",
      "finished in  711.7131729125977  seconds\n",
      "-------------------------\n",
      "Evaluate  train set\n",
      "-------------------------\n",
      "Accuracy:  94.025 % on  8000  instances\n",
      "Labels:  ['<=50K' '>50K']\n",
      "Confusion matrix:  [[5828, 194], [284, 1694]]\n",
      "Precision:  96.7785 %, Recall:  95.3534 %, F1:  96.0607 %\n"
     ]
    }
   ],
   "source": [
    "config = {'algorithm': 'ID3'}\n",
    "adult_df_model_train = chef.fit(adult_df_train, config = config, target_label = 'income')"
   ]
  },
  {
   "cell_type": "code",
   "execution_count": 54,
   "id": "statewide-shuttle",
   "metadata": {},
   "outputs": [],
   "source": [
    "adult_df_test_list = adult_df_X_test.values.tolist()\n",
    "adult_df_test_pre = []\n",
    "for item in adult_df_test_list:\n",
    "    adult_df_test_pre.append(chef.predict(adult_df_model_train, item))"
   ]
  },
  {
   "cell_type": "code",
   "execution_count": 55,
   "id": "sacred-tender",
   "metadata": {},
   "outputs": [
    {
     "name": "stdout",
     "output_type": "stream",
     "text": [
      "The accuracy for the test dataset is 76.55%.\n"
     ]
    }
   ],
   "source": [
    "correct = 0\n",
    "for i in range(0,2000):\n",
    "    if adult_df_test_pre[i] ==list(adult_df_y_test)[i]:\n",
    "        correct = correct + 1\n",
    "print(\"The accuracy for the test dataset is \"+ str((correct/2000)*100)+\"%.\")"
   ]
  },
  {
   "cell_type": "markdown",
   "id": "super-vocabulary",
   "metadata": {},
   "source": [
    "### D. First Artificial Dataset"
   ]
  },
  {
   "cell_type": "code",
   "execution_count": null,
   "id": "sensitive-perception",
   "metadata": {},
   "outputs": [],
   "source": [
    "First_Artificial_df_ID3_1 = First_Artificial_df.copy()\n",
    "First_Artificial_df_ID3_2 = First_Artificial_df.copy()"
   ]
  },
  {
   "cell_type": "markdown",
   "id": "objective-mouth",
   "metadata": {},
   "source": [
    "#### 1. Build model with train test split"
   ]
  },
  {
   "cell_type": "code",
   "execution_count": null,
   "id": "crazy-pursuit",
   "metadata": {},
   "outputs": [],
   "source": [
    "ID3_X_1 = First_Artificial_df_ID3_1.drop(\"Target\", axis = 1)\n",
    "ID3_Y_1 = First_Artificial_df_ID3_1[\"Target\"]\n",
    "ID3_X_train_1, ID3_X_test_1, ID3_y_train_1, ID3_y_test_1 = train_test_split(ID3_X_1, ID3_Y_1, test_size=.2, random_state = 42)"
   ]
  },
  {
   "cell_type": "code",
   "execution_count": null,
   "id": "spiritual-diploma",
   "metadata": {},
   "outputs": [],
   "source": [
    "first_train_ID3_1 = pd.concat([ID3_X_train_1, pd.DataFrame(ID3_y_train_1)], axis=1)"
   ]
  },
  {
   "cell_type": "code",
   "execution_count": null,
   "id": "brave-balloon",
   "metadata": {},
   "outputs": [],
   "source": [
    "first_train_ID3_1"
   ]
  },
  {
   "cell_type": "code",
   "execution_count": null,
   "id": "operational-antenna",
   "metadata": {},
   "outputs": [],
   "source": [
    "config = {'algorithm': 'ID3'}\n",
    "first_model_train_ID3_1 = chef.fit(first_train_ID3_1, config = config, target_label = 'Target')\n",
    "chef.save_model(first_model_train_ID3_1, \"first_model_train_ID3_1.pkl\")"
   ]
  },
  {
   "cell_type": "code",
   "execution_count": null,
   "id": "irish-bidder",
   "metadata": {},
   "outputs": [],
   "source": [
    "first_test_list_ID3_1 = ID3_X_test_1.values.tolist()\n",
    "first_test_pre = []\n",
    "for item in first_test_list_ID3_1:\n",
    "    first_test_pre.append(chef.predict(first_model_train_ID3_1, item))"
   ]
  },
  {
   "cell_type": "code",
   "execution_count": null,
   "id": "advised-delay",
   "metadata": {},
   "outputs": [],
   "source": [
    "correct = 0\n",
    "for i in range(0,2000):\n",
    "    if first_test_pre[i] ==list(ID3_y_test_1)[i]:\n",
    "        correct = correct + 1\n",
    "print(\"The accuracy for the test dataset is \"+ str((correct/2000)*100)+\"%.\")"
   ]
  },
  {
   "cell_type": "markdown",
   "id": "strong-tooth",
   "metadata": {},
   "source": [
    "#### 2. Train the whole dataset with increasing features"
   ]
  },
  {
   "cell_type": "code",
   "execution_count": null,
   "id": "impossible-frontier",
   "metadata": {},
   "outputs": [],
   "source": [
    "temp = ['Target']\n",
    "for i in range(1,51):\n",
    "    temp.append(str(i))\n",
    "    first_model_train_ID3_2 = chef.fit(First_Artificial_df_ID3_2[temp], config = config, target_label = 'Target')"
   ]
  },
  {
   "cell_type": "code",
   "execution_count": null,
   "id": "engaging-nurse",
   "metadata": {},
   "outputs": [],
   "source": [
    "accuracy_list = [33.34, 64.49, 97.96, 100, 100, 100, 100, 100, 100, 100, \n",
    "                 100, 100, 100, 100, 100, 100, 100, 100, 100, 100, \n",
    "                 100, 100, 100, 100, 100, 100, 100, 100, 100, 100,\n",
    "                 100, 100, 100, 100, 100, 100, 100, 100, 100, 100,\n",
    "                 100, 100, 100, 100, 100, 100, 100, 100, 100, 100]\n",
    "num_features = [1,2,3,4,5,6,7,8,9,10,\n",
    "               11,12,13,14,15,16,17,18,19,20,\n",
    "               21,22,23,24,25,26,27,28,29,30,\n",
    "               31,32,33,34,35,36,37,38,39,40,\n",
    "               41,42,43,44,45,46,47,48,49,50]\n",
    "plt.plot(num_features, accuracy_list)\n",
    "plt.title('Accuracy vs Num of features')\n",
    "plt.xlabel('Num of Features')\n",
    "plt.ylabel('Accuracy')\n",
    "plt.show()"
   ]
  },
  {
   "cell_type": "markdown",
   "id": "checked-article",
   "metadata": {},
   "source": [
    "### E. Second Artificial Dataset"
   ]
  },
  {
   "cell_type": "code",
   "execution_count": null,
   "id": "conceptual-species",
   "metadata": {},
   "outputs": [],
   "source": [
    "Sec_Artificial_df_ID3_1 = Sec_Artificial_df.copy()\n",
    "Sec_Artificial_df_ID3_2 = Sec_Artificial_df.copy()"
   ]
  },
  {
   "cell_type": "markdown",
   "id": "continental-chaos",
   "metadata": {},
   "source": [
    "#### 1. Build model with train test split and test whether overfitting "
   ]
  },
  {
   "cell_type": "code",
   "execution_count": null,
   "id": "opened-stranger",
   "metadata": {},
   "outputs": [],
   "source": [
    "for column in ['1','2','3','4','5','6','7','8','9','10',\n",
    "               '11','12','13','14','15','16','17','18','19','20',\n",
    "               '21','22','23','24','25','26','27','28','29','30',\n",
    "               '31','32','33','34','35','36','37','38','39','40',\n",
    "               '41','42','43','44','45','46','47','48','49','50']:\n",
    "    quantile_bin_label(Sec_Artificial_df_ID3_1, column)"
   ]
  },
  {
   "cell_type": "code",
   "execution_count": null,
   "id": "electrical-three",
   "metadata": {},
   "outputs": [],
   "source": [
    "ID3_X_2 = Sec_Artificial_df_ID3_1.drop(\"Target\", axis = 1)\n",
    "ID3_Y_2 = Sec_Artificial_df_ID3_1[\"Target\"]\n",
    "ID3_X_train_2, ID3_X_test_2, ID3_y_train_2, ID3_y_test_2 =\n",
    "train_test_split(ID3_X_2, ID3_Y_2, test_size=.2, random_state = 42)"
   ]
  },
  {
   "cell_type": "code",
   "execution_count": null,
   "id": "existing-article",
   "metadata": {},
   "outputs": [],
   "source": [
    "sec_train_ID3_1 = pd.concat([ID3_X_train_2, pd.DataFrame(ID3_y_train_2)], axis=1)"
   ]
  },
  {
   "cell_type": "code",
   "execution_count": null,
   "id": "grateful-exhibition",
   "metadata": {},
   "outputs": [],
   "source": [
    "sec_train_ID3_1"
   ]
  },
  {
   "cell_type": "code",
   "execution_count": null,
   "id": "stable-portugal",
   "metadata": {},
   "outputs": [],
   "source": [
    "config = {'algorithm': 'ID3'}\n",
    "sec_model_train_ID3_1 = chef.fit(sec_train_ID3_1, config = config, target_label = 'Target')\n",
    "chef.save_model(sec_model_train_ID3_1, \"sec_model_train_ID3_1.pkl\")"
   ]
  },
  {
   "cell_type": "code",
   "execution_count": null,
   "id": "international-queensland",
   "metadata": {},
   "outputs": [],
   "source": [
    "sec_test_list = ID3_X_test_2.values.tolist()\n",
    "sec_test_pre = []\n",
    "for item in sec_test_list:\n",
    "    sec_test_pre.append(chef.predict(sec_model_train_ID3_1, item))"
   ]
  },
  {
   "cell_type": "code",
   "execution_count": null,
   "id": "younger-decrease",
   "metadata": {},
   "outputs": [],
   "source": [
    "correct = 0\n",
    "for i in range(0,2000):\n",
    "    if sec_test_pre[i] ==list(ID3_y_test_2)[i]:\n",
    "        correct = correct + 1\n",
    "print(\"The accuracy for the test dataset is \"+ str((correct/2000)*100)+\"%.\")"
   ]
  },
  {
   "cell_type": "markdown",
   "id": "czech-president",
   "metadata": {},
   "source": [
    "# C4.5"
   ]
  },
  {
   "cell_type": "markdown",
   "id": "moved-boundary",
   "metadata": {},
   "source": [
    "### A. German Credit Dataset"
   ]
  },
  {
   "cell_type": "code",
   "execution_count": null,
   "id": "contained-saskatchewan",
   "metadata": {},
   "outputs": [],
   "source": []
  },
  {
   "cell_type": "markdown",
   "id": "informed-penny",
   "metadata": {},
   "source": [
    "### B. Wine Quality Dataset"
   ]
  },
  {
   "cell_type": "code",
   "execution_count": null,
   "id": "dominant-announcement",
   "metadata": {},
   "outputs": [],
   "source": []
  },
  {
   "cell_type": "markdown",
   "id": "minor-aside",
   "metadata": {},
   "source": [
    "### C. Adult Income Dataset"
   ]
  },
  {
   "cell_type": "code",
   "execution_count": null,
   "id": "alpha-mapping",
   "metadata": {},
   "outputs": [],
   "source": []
  },
  {
   "cell_type": "markdown",
   "id": "chemical-survey",
   "metadata": {},
   "source": [
    "### D. First Artificial Dataset"
   ]
  },
  {
   "cell_type": "code",
   "execution_count": null,
   "id": "operational-wrong",
   "metadata": {},
   "outputs": [],
   "source": []
  },
  {
   "cell_type": "markdown",
   "id": "french-glossary",
   "metadata": {},
   "source": [
    "### E.Second Artificial Dataset"
   ]
  },
  {
   "cell_type": "code",
   "execution_count": null,
   "id": "important-blend",
   "metadata": {},
   "outputs": [],
   "source": []
  },
  {
   "cell_type": "markdown",
   "id": "alert-defeat",
   "metadata": {},
   "source": [
    "# CART"
   ]
  },
  {
   "cell_type": "markdown",
   "id": "wound-courage",
   "metadata": {},
   "source": [
    "### A. German Credit Dataset"
   ]
  },
  {
   "cell_type": "code",
   "execution_count": null,
   "id": "completed-short",
   "metadata": {},
   "outputs": [],
   "source": []
  },
  {
   "cell_type": "markdown",
   "id": "organized-cutting",
   "metadata": {},
   "source": [
    "### B. Wine Quality Dataset"
   ]
  },
  {
   "cell_type": "code",
   "execution_count": null,
   "id": "alpine-potential",
   "metadata": {},
   "outputs": [],
   "source": []
  },
  {
   "cell_type": "markdown",
   "id": "casual-adoption",
   "metadata": {},
   "source": [
    "### C. Adult Income Dataset"
   ]
  },
  {
   "cell_type": "code",
   "execution_count": null,
   "id": "nonprofit-exposure",
   "metadata": {},
   "outputs": [],
   "source": []
  },
  {
   "cell_type": "markdown",
   "id": "consecutive-semiconductor",
   "metadata": {},
   "source": [
    "### D. First Artificial Dataset"
   ]
  },
  {
   "cell_type": "code",
   "execution_count": null,
   "id": "sixth-factor",
   "metadata": {},
   "outputs": [],
   "source": []
  },
  {
   "cell_type": "markdown",
   "id": "joint-functionality",
   "metadata": {},
   "source": [
    "### E.Second Artificial Dataset"
   ]
  },
  {
   "cell_type": "code",
   "execution_count": null,
   "id": "divided-interval",
   "metadata": {},
   "outputs": [],
   "source": []
  },
  {
   "cell_type": "markdown",
   "id": "senior-olympus",
   "metadata": {},
   "source": [
    "# CHAID"
   ]
  },
  {
   "cell_type": "markdown",
   "id": "tracked-jesus",
   "metadata": {},
   "source": [
    "### A. German Credit Dataset"
   ]
  },
  {
   "cell_type": "code",
   "execution_count": null,
   "id": "geographic-thing",
   "metadata": {},
   "outputs": [],
   "source": []
  },
  {
   "cell_type": "markdown",
   "id": "current-documentary",
   "metadata": {},
   "source": [
    "### B. Wine Quality Dataset"
   ]
  },
  {
   "cell_type": "code",
   "execution_count": null,
   "id": "velvet-spokesman",
   "metadata": {},
   "outputs": [],
   "source": []
  },
  {
   "cell_type": "markdown",
   "id": "cosmetic-honey",
   "metadata": {},
   "source": [
    "### C. Adult Income Dataset"
   ]
  },
  {
   "cell_type": "code",
   "execution_count": null,
   "id": "stone-animal",
   "metadata": {},
   "outputs": [],
   "source": [
    "#renaming income to be decision in order to fit the model since it only recognizes the target variable as Decision\n",
    "adult_df = adult_df.rename(columns={\"income\": \"Decision\"})"
   ]
  },
  {
   "cell_type": "code",
   "execution_count": null,
   "id": "seeing-plumbing",
   "metadata": {},
   "outputs": [],
   "source": [
    "X = adult_df.iloc[:,:-1]\n",
    "y = adult_df.Decision\n",
    "X_train, X_test, Y_train, Y_test = train_test_split(X, y, test_size = 0.2, random_state=12345)"
   ]
  },
  {
   "cell_type": "code",
   "execution_count": null,
   "id": "following-dating",
   "metadata": {},
   "outputs": [],
   "source": [
    "train_data = pd.concat([X_train, Y_train], axis=1)\n",
    "train_data"
   ]
  },
  {
   "cell_type": "code",
   "execution_count": null,
   "id": "neither-swiss",
   "metadata": {},
   "outputs": [],
   "source": [
    "#took so long so I tested on 80% of the data\n",
    "config = {\"algorithm\": \"CHAID\"}\n",
    "chaid_tree = cb.fit(train_data, config)"
   ]
  },
  {
   "cell_type": "markdown",
   "id": "sublime-plastic",
   "metadata": {},
   "source": [
    "### D. First Artificial Dataset"
   ]
  },
  {
   "cell_type": "code",
   "execution_count": null,
   "id": "different-celtic",
   "metadata": {},
   "outputs": [],
   "source": []
  },
  {
   "cell_type": "markdown",
   "id": "industrial-luther",
   "metadata": {},
   "source": [
    "### E.Second Artificial Dataset"
   ]
  },
  {
   "cell_type": "code",
   "execution_count": null,
   "id": "alpine-export",
   "metadata": {},
   "outputs": [],
   "source": []
  }
 ],
 "metadata": {
  "kernelspec": {
   "display_name": "Python 3",
   "language": "python",
   "name": "python3"
  },
  "language_info": {
   "codemirror_mode": {
    "name": "ipython",
    "version": 3
   },
   "file_extension": ".py",
   "mimetype": "text/x-python",
   "name": "python",
   "nbconvert_exporter": "python",
   "pygments_lexer": "ipython3",
   "version": "3.8.3"
  }
 },
 "nbformat": 4,
 "nbformat_minor": 5
}
